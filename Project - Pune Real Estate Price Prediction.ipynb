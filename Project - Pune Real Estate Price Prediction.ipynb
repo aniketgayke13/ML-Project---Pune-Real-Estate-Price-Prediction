{
 "cells": [
  {
   "cell_type": "markdown",
   "id": "b394a61c",
   "metadata": {},
   "source": [
    "# Project - Real Estate Price Prediction "
   ]
  },
  {
   "cell_type": "markdown",
   "id": "8b7d2df0",
   "metadata": {},
   "source": [
    "####  Aim of project - To predict the per sq.ft. for the properties available in Pune"
   ]
  },
  {
   "cell_type": "markdown",
   "id": "1765e256",
   "metadata": {},
   "source": [
    "### Import Libraries"
   ]
  },
  {
   "cell_type": "code",
   "execution_count": 203,
   "id": "2f6619e8",
   "metadata": {},
   "outputs": [],
   "source": [
    "import pandas as pd\n",
    "import numpy as np\n",
    "from sklearn.preprocessing import LabelEncoder\n",
    "le = LabelEncoder()\n",
    "from sklearn.metrics import r2_score, mean_squared_error, mean_absolute_percentage_error, r2_score\n",
    "import matplotlib.pyplot as plt\n",
    "import seaborn as sns\n",
    "# Using GridSearchCV to find the best algorithm for this problem\n",
    "from sklearn.model_selection import GridSearchCV\n",
    "from sklearn.model_selection import ShuffleSplit\n",
    "from sklearn.linear_model import LinearRegression\n",
    "from sklearn.linear_model import Lasso\n",
    "from sklearn.tree import DecisionTreeRegressor"
   ]
  },
  {
   "cell_type": "markdown",
   "id": "5c86498d",
   "metadata": {},
   "source": [
    "### Load Dataset"
   ]
  },
  {
   "cell_type": "code",
   "execution_count": 204,
   "id": "daaae747",
   "metadata": {
    "scrolled": false
   },
   "outputs": [
    {
     "data": {
      "text/html": [
       "<div>\n",
       "<style scoped>\n",
       "    .dataframe tbody tr th:only-of-type {\n",
       "        vertical-align: middle;\n",
       "    }\n",
       "\n",
       "    .dataframe tbody tr th {\n",
       "        vertical-align: top;\n",
       "    }\n",
       "\n",
       "    .dataframe thead th {\n",
       "        text-align: right;\n",
       "    }\n",
       "</style>\n",
       "<table border=\"1\" class=\"dataframe\">\n",
       "  <thead>\n",
       "    <tr style=\"text-align: right;\">\n",
       "      <th></th>\n",
       "      <th>site_location</th>\n",
       "      <th>availability</th>\n",
       "      <th>BHK</th>\n",
       "      <th>society</th>\n",
       "      <th>bath</th>\n",
       "      <th>balcony</th>\n",
       "      <th>total_sqft</th>\n",
       "      <th>area_type</th>\n",
       "      <th>price</th>\n",
       "    </tr>\n",
       "  </thead>\n",
       "  <tbody>\n",
       "    <tr>\n",
       "      <th>0</th>\n",
       "      <td>Navi Peth</td>\n",
       "      <td>18-Dec</td>\n",
       "      <td>2.0</td>\n",
       "      <td>Omter A</td>\n",
       "      <td>2.0</td>\n",
       "      <td>0.0</td>\n",
       "      <td>1000 - 1285</td>\n",
       "      <td>Super built-up  Area</td>\n",
       "      <td>43.415</td>\n",
       "    </tr>\n",
       "    <tr>\n",
       "      <th>1</th>\n",
       "      <td>Padmavati</td>\n",
       "      <td>Ready To Move</td>\n",
       "      <td>5.0</td>\n",
       "      <td>NaN</td>\n",
       "      <td>5.0</td>\n",
       "      <td>2.0</td>\n",
       "      <td>4239</td>\n",
       "      <td>Super built-up  Area</td>\n",
       "      <td>423.000</td>\n",
       "    </tr>\n",
       "    <tr>\n",
       "      <th>2</th>\n",
       "      <td>Parvati Darshan</td>\n",
       "      <td>Ready To Move</td>\n",
       "      <td>2.0</td>\n",
       "      <td>NaN</td>\n",
       "      <td>1.0</td>\n",
       "      <td>0.0</td>\n",
       "      <td>884</td>\n",
       "      <td>Built-up  Area</td>\n",
       "      <td>58.000</td>\n",
       "    </tr>\n",
       "    <tr>\n",
       "      <th>3</th>\n",
       "      <td>Pashan</td>\n",
       "      <td>19-Mar</td>\n",
       "      <td>2.0</td>\n",
       "      <td>Skume R</td>\n",
       "      <td>2.0</td>\n",
       "      <td>1.0</td>\n",
       "      <td>1045</td>\n",
       "      <td>Super built-up  Area</td>\n",
       "      <td>98.890</td>\n",
       "    </tr>\n",
       "    <tr>\n",
       "      <th>4</th>\n",
       "      <td>Paud Road</td>\n",
       "      <td>Ready To Move</td>\n",
       "      <td>2.0</td>\n",
       "      <td>NaN</td>\n",
       "      <td>2.0</td>\n",
       "      <td>2.0</td>\n",
       "      <td>1019</td>\n",
       "      <td>Super built-up  Area</td>\n",
       "      <td>49.860</td>\n",
       "    </tr>\n",
       "    <tr>\n",
       "      <th>...</th>\n",
       "      <td>...</td>\n",
       "      <td>...</td>\n",
       "      <td>...</td>\n",
       "      <td>...</td>\n",
       "      <td>...</td>\n",
       "      <td>...</td>\n",
       "      <td>...</td>\n",
       "      <td>...</td>\n",
       "      <td>...</td>\n",
       "    </tr>\n",
       "    <tr>\n",
       "      <th>13153</th>\n",
       "      <td>Pashan</td>\n",
       "      <td>Ready To Move</td>\n",
       "      <td>5.0</td>\n",
       "      <td>ArsiaEx</td>\n",
       "      <td>4.0</td>\n",
       "      <td>0.0</td>\n",
       "      <td>3453</td>\n",
       "      <td>Built-up  Area</td>\n",
       "      <td>231.000</td>\n",
       "    </tr>\n",
       "    <tr>\n",
       "      <th>13154</th>\n",
       "      <td>Paud Road</td>\n",
       "      <td>Ready To Move</td>\n",
       "      <td>4.0</td>\n",
       "      <td>NaN</td>\n",
       "      <td>5.0</td>\n",
       "      <td>NaN</td>\n",
       "      <td>3600</td>\n",
       "      <td>Super built-up  Area</td>\n",
       "      <td>400.000</td>\n",
       "    </tr>\n",
       "    <tr>\n",
       "      <th>13155</th>\n",
       "      <td>Pirangut</td>\n",
       "      <td>Ready To Move</td>\n",
       "      <td>2.0</td>\n",
       "      <td>Mahla T</td>\n",
       "      <td>2.0</td>\n",
       "      <td>1.0</td>\n",
       "      <td>1141</td>\n",
       "      <td>Built-up  Area</td>\n",
       "      <td>60.000</td>\n",
       "    </tr>\n",
       "    <tr>\n",
       "      <th>13156</th>\n",
       "      <td>Prabhat Road</td>\n",
       "      <td>18-Jun</td>\n",
       "      <td>4.0</td>\n",
       "      <td>SollyCl</td>\n",
       "      <td>4.0</td>\n",
       "      <td>1.0</td>\n",
       "      <td>4689</td>\n",
       "      <td>Super built-up  Area</td>\n",
       "      <td>488.000</td>\n",
       "    </tr>\n",
       "    <tr>\n",
       "      <th>13157</th>\n",
       "      <td>Pune Railway Station</td>\n",
       "      <td>Ready To Move</td>\n",
       "      <td>1.0</td>\n",
       "      <td>NaN</td>\n",
       "      <td>1.0</td>\n",
       "      <td>1.0</td>\n",
       "      <td>550</td>\n",
       "      <td>Super built-up  Area</td>\n",
       "      <td>17.000</td>\n",
       "    </tr>\n",
       "  </tbody>\n",
       "</table>\n",
       "<p>13158 rows × 9 columns</p>\n",
       "</div>"
      ],
      "text/plain": [
       "              site_location   availability  BHK  society  bath  balcony  \\\n",
       "0                 Navi Peth         18-Dec  2.0  Omter A   2.0      0.0   \n",
       "1                 Padmavati  Ready To Move  5.0      NaN   5.0      2.0   \n",
       "2           Parvati Darshan  Ready To Move  2.0      NaN   1.0      0.0   \n",
       "3                    Pashan         19-Mar  2.0  Skume R   2.0      1.0   \n",
       "4                 Paud Road  Ready To Move  2.0      NaN   2.0      2.0   \n",
       "...                     ...            ...  ...      ...   ...      ...   \n",
       "13153                Pashan  Ready To Move  5.0  ArsiaEx   4.0      0.0   \n",
       "13154             Paud Road  Ready To Move  4.0      NaN   5.0      NaN   \n",
       "13155              Pirangut  Ready To Move  2.0  Mahla T   2.0      1.0   \n",
       "13156          Prabhat Road         18-Jun  4.0  SollyCl   4.0      1.0   \n",
       "13157  Pune Railway Station  Ready To Move  1.0      NaN   1.0      1.0   \n",
       "\n",
       "        total_sqft             area_type    price  \n",
       "0      1000 - 1285  Super built-up  Area   43.415  \n",
       "1             4239  Super built-up  Area  423.000  \n",
       "2              884        Built-up  Area   58.000  \n",
       "3             1045  Super built-up  Area   98.890  \n",
       "4             1019  Super built-up  Area   49.860  \n",
       "...            ...                   ...      ...  \n",
       "13153         3453        Built-up  Area  231.000  \n",
       "13154         3600  Super built-up  Area  400.000  \n",
       "13155         1141        Built-up  Area   60.000  \n",
       "13156         4689  Super built-up  Area  488.000  \n",
       "13157          550  Super built-up  Area   17.000  \n",
       "\n",
       "[13158 rows x 9 columns]"
      ]
     },
     "execution_count": 204,
     "metadata": {},
     "output_type": "execute_result"
    }
   ],
   "source": [
    "# Importing the dataset\n",
    "\n",
    "pun = pd.read_csv(r\"O:\\IMARTICUS LECTURES\\Python\\Pandas Data Set\\Pune_real_estate_data.csv\")\n",
    "pun"
   ]
  },
  {
   "cell_type": "markdown",
   "id": "5a1c6dca",
   "metadata": {},
   "source": [
    "### Statical Analysis on Dataset"
   ]
  },
  {
   "cell_type": "code",
   "execution_count": 205,
   "id": "058dd43b",
   "metadata": {},
   "outputs": [
    {
     "data": {
      "text/plain": [
       "count    13158.000000\n",
       "mean       110.909116\n",
       "std        144.532245\n",
       "min          8.000000\n",
       "10%         38.000000\n",
       "20%         45.794000\n",
       "30%         53.760000\n",
       "40%         61.000000\n",
       "50%         70.387500\n",
       "60%         85.000000\n",
       "70%        101.000000\n",
       "80%        135.000000\n",
       "90%        220.000000\n",
       "100%      2912.000000\n",
       "max       2912.000000\n",
       "Name: price, dtype: float64"
      ]
     },
     "execution_count": 205,
     "metadata": {},
     "output_type": "execute_result"
    }
   ],
   "source": [
    "pun.price.describe(percentiles=[.1,.2,.3,.4,.5,.6,.7,.8,.9,1])                      "
   ]
  },
  {
   "cell_type": "code",
   "execution_count": 206,
   "id": "bb4865cc",
   "metadata": {},
   "outputs": [
    {
     "name": "stderr",
     "output_type": "stream",
     "text": [
      "C:\\Users\\andu_13\\AppData\\Local\\Temp\\ipykernel_10544\\4086681631.py:1: FutureWarning: The default value of numeric_only in DataFrame.corr is deprecated. In a future version, it will default to False. Select only valid columns or specify the value of numeric_only to silence this warning.\n",
      "  pun.corr()\n"
     ]
    },
    {
     "data": {
      "text/html": [
       "<div>\n",
       "<style scoped>\n",
       "    .dataframe tbody tr th:only-of-type {\n",
       "        vertical-align: middle;\n",
       "    }\n",
       "\n",
       "    .dataframe tbody tr th {\n",
       "        vertical-align: top;\n",
       "    }\n",
       "\n",
       "    .dataframe thead th {\n",
       "        text-align: right;\n",
       "    }\n",
       "</style>\n",
       "<table border=\"1\" class=\"dataframe\">\n",
       "  <thead>\n",
       "    <tr style=\"text-align: right;\">\n",
       "      <th></th>\n",
       "      <th>BHK</th>\n",
       "      <th>bath</th>\n",
       "      <th>balcony</th>\n",
       "      <th>price</th>\n",
       "    </tr>\n",
       "  </thead>\n",
       "  <tbody>\n",
       "    <tr>\n",
       "      <th>BHK</th>\n",
       "      <td>1.000000</td>\n",
       "      <td>0.850438</td>\n",
       "      <td>0.228387</td>\n",
       "      <td>0.437603</td>\n",
       "    </tr>\n",
       "    <tr>\n",
       "      <th>bath</th>\n",
       "      <td>0.850438</td>\n",
       "      <td>1.000000</td>\n",
       "      <td>0.242809</td>\n",
       "      <td>0.494326</td>\n",
       "    </tr>\n",
       "    <tr>\n",
       "      <th>balcony</th>\n",
       "      <td>0.228387</td>\n",
       "      <td>0.242809</td>\n",
       "      <td>1.000000</td>\n",
       "      <td>0.121561</td>\n",
       "    </tr>\n",
       "    <tr>\n",
       "      <th>price</th>\n",
       "      <td>0.437603</td>\n",
       "      <td>0.494326</td>\n",
       "      <td>0.121561</td>\n",
       "      <td>1.000000</td>\n",
       "    </tr>\n",
       "  </tbody>\n",
       "</table>\n",
       "</div>"
      ],
      "text/plain": [
       "              BHK      bath   balcony     price\n",
       "BHK      1.000000  0.850438  0.228387  0.437603\n",
       "bath     0.850438  1.000000  0.242809  0.494326\n",
       "balcony  0.228387  0.242809  1.000000  0.121561\n",
       "price    0.437603  0.494326  0.121561  1.000000"
      ]
     },
     "execution_count": 206,
     "metadata": {},
     "output_type": "execute_result"
    }
   ],
   "source": [
    "pun.corr()"
   ]
  },
  {
   "cell_type": "markdown",
   "id": "200b119a",
   "metadata": {},
   "source": [
    "### EXPLORATORY DATA ANALYSIS"
   ]
  },
  {
   "cell_type": "code",
   "execution_count": 145,
   "id": "6f410e34",
   "metadata": {},
   "outputs": [
    {
     "data": {
      "text/plain": [
       "(13158, 9)"
      ]
     },
     "execution_count": 145,
     "metadata": {},
     "output_type": "execute_result"
    }
   ],
   "source": [
    "pun.shape\n",
    "\n",
    "# dateset has 13158 columns and 9 rows"
   ]
  },
  {
   "cell_type": "code",
   "execution_count": 146,
   "id": "851a99d2",
   "metadata": {},
   "outputs": [
    {
     "data": {
      "text/plain": [
       "area_type\n",
       "Built-up  Area          2394\n",
       "Carpet  Area              85\n",
       "Plot  Area              1905\n",
       "Super built-up  Area    8774\n",
       "Name: area_type, dtype: int64"
      ]
     },
     "execution_count": 146,
     "metadata": {},
     "output_type": "execute_result"
    }
   ],
   "source": [
    "pun.groupby('area_type')['area_type'].agg('count')\n",
    "\n",
    "# From the area_type column Built-up  Area is occured maximum time"
   ]
  },
  {
   "cell_type": "code",
   "execution_count": 147,
   "id": "39e31ba9",
   "metadata": {},
   "outputs": [
    {
     "data": {
      "text/plain": [
       "Ready To Move    10426\n",
       "18-Dec             307\n",
       "18-May             294\n",
       "18-Apr             269\n",
       "18-Aug             200\n",
       "                 ...  \n",
       "16-Oct               1\n",
       "15-Dec               1\n",
       "15-Jun               1\n",
       "16-Jul               1\n",
       "14-Jul               1\n",
       "Name: availability, Length: 81, dtype: int64"
      ]
     },
     "execution_count": 147,
     "metadata": {},
     "output_type": "execute_result"
    }
   ],
   "source": [
    "pun.availability.value_counts()\n",
    "\n",
    "# Here we can understand there are 10426 Ready to move homes out off 13158 "
   ]
  },
  {
   "cell_type": "code",
   "execution_count": 148,
   "id": "17beb4b3",
   "metadata": {},
   "outputs": [
    {
     "data": {
      "text/plain": [
       "2.0    5529\n",
       "3.0    4857\n",
       "4.0    1417\n",
       "1.0     656\n",
       "5.0     356\n",
       "6.0     221\n",
       "7.0     100\n",
       "0.5       4\n",
       "Name: BHK, dtype: int64"
      ]
     },
     "execution_count": 148,
     "metadata": {},
     "output_type": "execute_result"
    }
   ],
   "source": [
    "pun.BHK.value_counts()\n",
    "\n",
    "# 2 BHK are the highest follwed by 3 BHK "
   ]
  },
  {
   "cell_type": "code",
   "execution_count": 149,
   "id": "1f41389d",
   "metadata": {},
   "outputs": [
    {
     "data": {
      "text/plain": [
       "site_location\n",
       "Alandi Road        138\n",
       "Ambegaon Budruk    138\n",
       "Anandnagar         138\n",
       "Aundh              138\n",
       "Aundh Road         137\n",
       "                  ... \n",
       "Wakadewadi         137\n",
       "Wanowrie           136\n",
       "Warje              138\n",
       "Yerawada           137\n",
       "other                1\n",
       "Name: site_location, Length: 97, dtype: int64"
      ]
     },
     "execution_count": 149,
     "metadata": {},
     "output_type": "execute_result"
    }
   ],
   "source": [
    "pun.groupby('site_location')['site_location'].agg('count')\n",
    "\n",
    "# Exploring the location"
   ]
  },
  {
   "cell_type": "code",
   "execution_count": 150,
   "id": "1ccd0115",
   "metadata": {},
   "outputs": [],
   "source": [
    "# droping the ID column\n",
    "# As the Scoiety name is leat related to the target variable\n",
    "\n",
    "pun = pun.drop(['society'], axis = 1)"
   ]
  },
  {
   "cell_type": "code",
   "execution_count": null,
   "id": "be6e47e4",
   "metadata": {},
   "outputs": [],
   "source": []
  },
  {
   "cell_type": "markdown",
   "id": "94443880",
   "metadata": {},
   "source": [
    "## Graphical Analysis"
   ]
  },
  {
   "cell_type": "code",
   "execution_count": 151,
   "id": "4149b176",
   "metadata": {},
   "outputs": [
    {
     "data": {
      "image/png": "[encoded data removed]",
      "text/plain": [
       "<Figure size 640x480 with 1 Axes>"
      ]
     },
     "metadata": {},
     "output_type": "display_data"
    }
   ],
   "source": [
    "BHK = pd.DataFrame(pun.BHK.value_counts())\n",
    "BHK.columns = ['Counts']\n",
    "BHK = BHK.sort_values('Counts', ascending=True)\n",
    "plt.pie(x = BHK.Counts, labels = BHK.index, autopct = '%1.0f%%');"
   ]
  },
  {
   "cell_type": "code",
   "execution_count": 152,
   "id": "726a4892",
   "metadata": {},
   "outputs": [
    {
     "data": {
      "image/png": "[encoded data removed]",
      "text/plain": [
       "<Figure size 640x480 with 1 Axes>"
      ]
     },
     "metadata": {},
     "output_type": "display_data"
    }
   ],
   "source": [
    "bath = pd.DataFrame(pun.bath.value_counts())\n",
    "bath.columns = ['Counts']\n",
    "bath = bath.sort_values('Counts', ascending=True)\n",
    "plt.bar(bath.index, bath['Counts'])\n",
    "plt.xlabel('bath')\n",
    "plt.ylabel('No. of Counts')\n",
    "plt.title('Bath Chart');"
   ]
  },
  {
   "cell_type": "code",
   "execution_count": 153,
   "id": "deabc7ce",
   "metadata": {},
   "outputs": [
    {
     "data": {
      "image/png": "[encoded data removed]",
      "text/plain": [
       "<Figure size 800x400 with 1 Axes>"
      ]
     },
     "metadata": {},
     "output_type": "display_data"
    }
   ],
   "source": [
    "area_type = pd.DataFrame(pun.area_type.value_counts())\n",
    "area_type.columns = ['Counts']\n",
    "area_type = area_type.sort_values('Counts', ascending=True)\n",
    "plt.figure(figsize=(8, 4))\n",
    "plt.bar(area_type.index, area_type['Counts'])\n",
    "plt.xlabel('area_type')\n",
    "plt.ylabel('No. of Counts')\n",
    "plt.title('Area_Type Chart');"
   ]
  },
  {
   "cell_type": "code",
   "execution_count": null,
   "id": "f8b32d87",
   "metadata": {},
   "outputs": [],
   "source": []
  },
  {
   "cell_type": "markdown",
   "id": "c8adf492",
   "metadata": {},
   "source": [
    "## Data Cleaning"
   ]
  },
  {
   "cell_type": "code",
   "execution_count": 154,
   "id": "e77b82c8",
   "metadata": {},
   "outputs": [
    {
     "data": {
      "text/plain": [
       "site_location      1\n",
       "availability       0\n",
       "BHK               18\n",
       "bath              75\n",
       "balcony          557\n",
       "total_sqft         0\n",
       "area_type          0\n",
       "price              0\n",
       "dtype: int64"
      ]
     },
     "execution_count": 154,
     "metadata": {},
     "output_type": "execute_result"
    }
   ],
   "source": [
    "pun.isnull().sum()"
   ]
  },
  {
   "cell_type": "code",
   "execution_count": 155,
   "id": "d57614c3",
   "metadata": {},
   "outputs": [
    {
     "data": {
      "text/plain": [
       "2.0     6908\n",
       "3.0     3285\n",
       "4.0     1220\n",
       "1.0      788\n",
       "5.0      519\n",
       "6.0      251\n",
       "7.0       82\n",
       "8.0       18\n",
       "9.0       10\n",
       "0.0        1\n",
       "11.0       1\n",
       "Name: bath, dtype: int64"
      ]
     },
     "execution_count": 155,
     "metadata": {},
     "output_type": "execute_result"
    }
   ],
   "source": [
    "pun.bath.value_counts()"
   ]
  },
  {
   "cell_type": "code",
   "execution_count": 156,
   "id": "77873d8b",
   "metadata": {},
   "outputs": [],
   "source": [
    "# filling the null values"
   ]
  },
  {
   "cell_type": "code",
   "execution_count": 157,
   "id": "c0d05e49",
   "metadata": {},
   "outputs": [],
   "source": [
    "pun.balcony = pun.balcony.fillna(0)\n",
    "pun.bath = pun.bath.fillna(2)\n",
    "pun['BHK'] = pun['BHK'].fillna(2)"
   ]
  },
  {
   "cell_type": "code",
   "execution_count": 158,
   "id": "0a628625",
   "metadata": {},
   "outputs": [],
   "source": [
    "pun = pun.dropna()\n",
    "# Dropping the rows with null values because the dataset is huge as compared to null values.\n"
   ]
  },
  {
   "cell_type": "code",
   "execution_count": 159,
   "id": "e9913a09",
   "metadata": {},
   "outputs": [
    {
     "data": {
      "text/html": [
       "<div>\n",
       "<style scoped>\n",
       "    .dataframe tbody tr th:only-of-type {\n",
       "        vertical-align: middle;\n",
       "    }\n",
       "\n",
       "    .dataframe tbody tr th {\n",
       "        vertical-align: top;\n",
       "    }\n",
       "\n",
       "    .dataframe thead th {\n",
       "        text-align: right;\n",
       "    }\n",
       "</style>\n",
       "<table border=\"1\" class=\"dataframe\">\n",
       "  <thead>\n",
       "    <tr style=\"text-align: right;\">\n",
       "      <th></th>\n",
       "      <th>site_location</th>\n",
       "      <th>availability</th>\n",
       "      <th>BHK</th>\n",
       "      <th>bath</th>\n",
       "      <th>balcony</th>\n",
       "      <th>total_sqft</th>\n",
       "      <th>area_type</th>\n",
       "      <th>price</th>\n",
       "    </tr>\n",
       "  </thead>\n",
       "  <tbody>\n",
       "    <tr>\n",
       "      <th>0</th>\n",
       "      <td>Navi Peth</td>\n",
       "      <td>18-Dec</td>\n",
       "      <td>2.0</td>\n",
       "      <td>2.0</td>\n",
       "      <td>0.0</td>\n",
       "      <td>1000 - 1285</td>\n",
       "      <td>Super built-up  Area</td>\n",
       "      <td>43.415</td>\n",
       "    </tr>\n",
       "    <tr>\n",
       "      <th>1</th>\n",
       "      <td>Padmavati</td>\n",
       "      <td>Ready To Move</td>\n",
       "      <td>5.0</td>\n",
       "      <td>5.0</td>\n",
       "      <td>2.0</td>\n",
       "      <td>4239</td>\n",
       "      <td>Super built-up  Area</td>\n",
       "      <td>423.000</td>\n",
       "    </tr>\n",
       "    <tr>\n",
       "      <th>2</th>\n",
       "      <td>Parvati Darshan</td>\n",
       "      <td>Ready To Move</td>\n",
       "      <td>2.0</td>\n",
       "      <td>1.0</td>\n",
       "      <td>0.0</td>\n",
       "      <td>884</td>\n",
       "      <td>Built-up  Area</td>\n",
       "      <td>58.000</td>\n",
       "    </tr>\n",
       "    <tr>\n",
       "      <th>3</th>\n",
       "      <td>Pashan</td>\n",
       "      <td>19-Mar</td>\n",
       "      <td>2.0</td>\n",
       "      <td>2.0</td>\n",
       "      <td>1.0</td>\n",
       "      <td>1045</td>\n",
       "      <td>Super built-up  Area</td>\n",
       "      <td>98.890</td>\n",
       "    </tr>\n",
       "    <tr>\n",
       "      <th>4</th>\n",
       "      <td>Paud Road</td>\n",
       "      <td>Ready To Move</td>\n",
       "      <td>2.0</td>\n",
       "      <td>2.0</td>\n",
       "      <td>2.0</td>\n",
       "      <td>1019</td>\n",
       "      <td>Super built-up  Area</td>\n",
       "      <td>49.860</td>\n",
       "    </tr>\n",
       "    <tr>\n",
       "      <th>...</th>\n",
       "      <td>...</td>\n",
       "      <td>...</td>\n",
       "      <td>...</td>\n",
       "      <td>...</td>\n",
       "      <td>...</td>\n",
       "      <td>...</td>\n",
       "      <td>...</td>\n",
       "      <td>...</td>\n",
       "    </tr>\n",
       "    <tr>\n",
       "      <th>13153</th>\n",
       "      <td>Pashan</td>\n",
       "      <td>Ready To Move</td>\n",
       "      <td>5.0</td>\n",
       "      <td>4.0</td>\n",
       "      <td>0.0</td>\n",
       "      <td>3453</td>\n",
       "      <td>Built-up  Area</td>\n",
       "      <td>231.000</td>\n",
       "    </tr>\n",
       "    <tr>\n",
       "      <th>13154</th>\n",
       "      <td>Paud Road</td>\n",
       "      <td>Ready To Move</td>\n",
       "      <td>4.0</td>\n",
       "      <td>5.0</td>\n",
       "      <td>0.0</td>\n",
       "      <td>3600</td>\n",
       "      <td>Super built-up  Area</td>\n",
       "      <td>400.000</td>\n",
       "    </tr>\n",
       "    <tr>\n",
       "      <th>13155</th>\n",
       "      <td>Pirangut</td>\n",
       "      <td>Ready To Move</td>\n",
       "      <td>2.0</td>\n",
       "      <td>2.0</td>\n",
       "      <td>1.0</td>\n",
       "      <td>1141</td>\n",
       "      <td>Built-up  Area</td>\n",
       "      <td>60.000</td>\n",
       "    </tr>\n",
       "    <tr>\n",
       "      <th>13156</th>\n",
       "      <td>Prabhat Road</td>\n",
       "      <td>18-Jun</td>\n",
       "      <td>4.0</td>\n",
       "      <td>4.0</td>\n",
       "      <td>1.0</td>\n",
       "      <td>4689</td>\n",
       "      <td>Super built-up  Area</td>\n",
       "      <td>488.000</td>\n",
       "    </tr>\n",
       "    <tr>\n",
       "      <th>13157</th>\n",
       "      <td>Pune Railway Station</td>\n",
       "      <td>Ready To Move</td>\n",
       "      <td>1.0</td>\n",
       "      <td>1.0</td>\n",
       "      <td>1.0</td>\n",
       "      <td>550</td>\n",
       "      <td>Super built-up  Area</td>\n",
       "      <td>17.000</td>\n",
       "    </tr>\n",
       "  </tbody>\n",
       "</table>\n",
       "<p>13157 rows × 8 columns</p>\n",
       "</div>"
      ],
      "text/plain": [
       "              site_location   availability  BHK  bath  balcony   total_sqft  \\\n",
       "0                 Navi Peth         18-Dec  2.0   2.0      0.0  1000 - 1285   \n",
       "1                 Padmavati  Ready To Move  5.0   5.0      2.0         4239   \n",
       "2           Parvati Darshan  Ready To Move  2.0   1.0      0.0          884   \n",
       "3                    Pashan         19-Mar  2.0   2.0      1.0         1045   \n",
       "4                 Paud Road  Ready To Move  2.0   2.0      2.0         1019   \n",
       "...                     ...            ...  ...   ...      ...          ...   \n",
       "13153                Pashan  Ready To Move  5.0   4.0      0.0         3453   \n",
       "13154             Paud Road  Ready To Move  4.0   5.0      0.0         3600   \n",
       "13155              Pirangut  Ready To Move  2.0   2.0      1.0         1141   \n",
       "13156          Prabhat Road         18-Jun  4.0   4.0      1.0         4689   \n",
       "13157  Pune Railway Station  Ready To Move  1.0   1.0      1.0          550   \n",
       "\n",
       "                  area_type    price  \n",
       "0      Super built-up  Area   43.415  \n",
       "1      Super built-up  Area  423.000  \n",
       "2            Built-up  Area   58.000  \n",
       "3      Super built-up  Area   98.890  \n",
       "4      Super built-up  Area   49.860  \n",
       "...                     ...      ...  \n",
       "13153        Built-up  Area  231.000  \n",
       "13154  Super built-up  Area  400.000  \n",
       "13155        Built-up  Area   60.000  \n",
       "13156  Super built-up  Area  488.000  \n",
       "13157  Super built-up  Area   17.000  \n",
       "\n",
       "[13157 rows x 8 columns]"
      ]
     },
     "execution_count": 159,
     "metadata": {},
     "output_type": "execute_result"
    }
   ],
   "source": [
    "pun"
   ]
  },
  {
   "cell_type": "code",
   "execution_count": 160,
   "id": "31f9b242",
   "metadata": {},
   "outputs": [
    {
     "name": "stdout",
     "output_type": "stream",
     "text": [
      "<class 'pandas.core.frame.DataFrame'>\n",
      "Int64Index: 13157 entries, 0 to 13157\n",
      "Data columns (total 8 columns):\n",
      " #   Column         Non-Null Count  Dtype  \n",
      "---  ------         --------------  -----  \n",
      " 0   site_location  13157 non-null  object \n",
      " 1   availability   13157 non-null  object \n",
      " 2   BHK            13157 non-null  float64\n",
      " 3   bath           13157 non-null  float64\n",
      " 4   balcony        13157 non-null  float64\n",
      " 5   total_sqft     13157 non-null  object \n",
      " 6   area_type      13157 non-null  object \n",
      " 7   price          13157 non-null  float64\n",
      "dtypes: float64(4), object(4)\n",
      "memory usage: 925.1+ KB\n"
     ]
    }
   ],
   "source": [
    "pun.info()"
   ]
  },
  {
   "cell_type": "code",
   "execution_count": 161,
   "id": "3afbca74",
   "metadata": {},
   "outputs": [
    {
     "data": {
      "text/plain": [
       "array(['1000 - 1285', '4239', '884', ..., '1133 - 1384', '774', '4689'],\n",
       "      dtype=object)"
      ]
     },
     "execution_count": 161,
     "metadata": {},
     "output_type": "execute_result"
    }
   ],
   "source": [
    "# Exploring the total_sqft column\n",
    "pun.total_sqft.unique()"
   ]
  },
  {
   "cell_type": "code",
   "execution_count": 162,
   "id": "2ee3e96b",
   "metadata": {},
   "outputs": [],
   "source": [
    "# Converting the range values to integer values and removing other types of error\n",
    "\n",
    "def convert_sqft_to_num(x):\n",
    "    tokens = x.split('-')\n",
    "    if len(tokens) == 2:\n",
    "        return (float(tokens[0])+float(tokens[1]))/2\n",
    "    try:\n",
    "        return float(x)\n",
    "    except:\n",
    "        return None\n",
    "    \n"
   ]
  },
  {
   "cell_type": "code",
   "execution_count": 163,
   "id": "57c80e1f",
   "metadata": {},
   "outputs": [
    {
     "data": {
      "text/html": [
       "<div>\n",
       "<style scoped>\n",
       "    .dataframe tbody tr th:only-of-type {\n",
       "        vertical-align: middle;\n",
       "    }\n",
       "\n",
       "    .dataframe tbody tr th {\n",
       "        vertical-align: top;\n",
       "    }\n",
       "\n",
       "    .dataframe thead th {\n",
       "        text-align: right;\n",
       "    }\n",
       "</style>\n",
       "<table border=\"1\" class=\"dataframe\">\n",
       "  <thead>\n",
       "    <tr style=\"text-align: right;\">\n",
       "      <th></th>\n",
       "      <th>site_location</th>\n",
       "      <th>availability</th>\n",
       "      <th>BHK</th>\n",
       "      <th>bath</th>\n",
       "      <th>balcony</th>\n",
       "      <th>area_type</th>\n",
       "      <th>price</th>\n",
       "      <th>new_total_sqft</th>\n",
       "    </tr>\n",
       "  </thead>\n",
       "  <tbody>\n",
       "    <tr>\n",
       "      <th>0</th>\n",
       "      <td>Navi Peth</td>\n",
       "      <td>18-Dec</td>\n",
       "      <td>2.0</td>\n",
       "      <td>2.0</td>\n",
       "      <td>0.0</td>\n",
       "      <td>Super built-up  Area</td>\n",
       "      <td>43.415</td>\n",
       "      <td>1142.5</td>\n",
       "    </tr>\n",
       "    <tr>\n",
       "      <th>1</th>\n",
       "      <td>Padmavati</td>\n",
       "      <td>Ready To Move</td>\n",
       "      <td>5.0</td>\n",
       "      <td>5.0</td>\n",
       "      <td>2.0</td>\n",
       "      <td>Super built-up  Area</td>\n",
       "      <td>423.000</td>\n",
       "      <td>4239.0</td>\n",
       "    </tr>\n",
       "    <tr>\n",
       "      <th>2</th>\n",
       "      <td>Parvati Darshan</td>\n",
       "      <td>Ready To Move</td>\n",
       "      <td>2.0</td>\n",
       "      <td>1.0</td>\n",
       "      <td>0.0</td>\n",
       "      <td>Built-up  Area</td>\n",
       "      <td>58.000</td>\n",
       "      <td>884.0</td>\n",
       "    </tr>\n",
       "    <tr>\n",
       "      <th>3</th>\n",
       "      <td>Pashan</td>\n",
       "      <td>19-Mar</td>\n",
       "      <td>2.0</td>\n",
       "      <td>2.0</td>\n",
       "      <td>1.0</td>\n",
       "      <td>Super built-up  Area</td>\n",
       "      <td>98.890</td>\n",
       "      <td>1045.0</td>\n",
       "    </tr>\n",
       "    <tr>\n",
       "      <th>4</th>\n",
       "      <td>Paud Road</td>\n",
       "      <td>Ready To Move</td>\n",
       "      <td>2.0</td>\n",
       "      <td>2.0</td>\n",
       "      <td>2.0</td>\n",
       "      <td>Super built-up  Area</td>\n",
       "      <td>49.860</td>\n",
       "      <td>1019.0</td>\n",
       "    </tr>\n",
       "  </tbody>\n",
       "</table>\n",
       "</div>"
      ],
      "text/plain": [
       "     site_location   availability  BHK  bath  balcony             area_type  \\\n",
       "0        Navi Peth         18-Dec  2.0   2.0      0.0  Super built-up  Area   \n",
       "1        Padmavati  Ready To Move  5.0   5.0      2.0  Super built-up  Area   \n",
       "2  Parvati Darshan  Ready To Move  2.0   1.0      0.0        Built-up  Area   \n",
       "3           Pashan         19-Mar  2.0   2.0      1.0  Super built-up  Area   \n",
       "4        Paud Road  Ready To Move  2.0   2.0      2.0  Super built-up  Area   \n",
       "\n",
       "     price  new_total_sqft  \n",
       "0   43.415          1142.5  \n",
       "1  423.000          4239.0  \n",
       "2   58.000           884.0  \n",
       "3   98.890          1045.0  \n",
       "4   49.860          1019.0  "
      ]
     },
     "execution_count": 163,
     "metadata": {},
     "output_type": "execute_result"
    }
   ],
   "source": [
    "pun['new_total_sqft'] = pun.total_sqft.apply(convert_sqft_to_num)\n",
    "pun= pun.drop('total_sqft', axis='columns')\n",
    "pun.head()"
   ]
  },
  {
   "cell_type": "code",
   "execution_count": 164,
   "id": "8471d40e",
   "metadata": {
    "scrolled": false
   },
   "outputs": [],
   "source": [
    "# Adding the price column as prices at last\n",
    "\n",
    "pun['prices'] = pun['price']\n",
    "pun=pun.drop(\"price\",axis=1)"
   ]
  },
  {
   "cell_type": "code",
   "execution_count": 165,
   "id": "2fe1eacb",
   "metadata": {},
   "outputs": [
    {
     "data": {
      "text/plain": [
       "site_location      0\n",
       "availability       0\n",
       "BHK                0\n",
       "bath               0\n",
       "balcony            0\n",
       "area_type          0\n",
       "new_total_sqft    43\n",
       "prices             0\n",
       "dtype: int64"
      ]
     },
     "execution_count": 165,
     "metadata": {},
     "output_type": "execute_result"
    }
   ],
   "source": [
    "# Removing the rows in new_total_sqft column that hase None values\n",
    "pun.isnull().sum()"
   ]
  },
  {
   "cell_type": "code",
   "execution_count": 166,
   "id": "4b675503",
   "metadata": {},
   "outputs": [
    {
     "data": {
      "text/plain": [
       "site_location     0\n",
       "availability      0\n",
       "BHK               0\n",
       "bath              0\n",
       "balcony           0\n",
       "area_type         0\n",
       "new_total_sqft    0\n",
       "prices            0\n",
       "dtype: int64"
      ]
     },
     "execution_count": 166,
     "metadata": {},
     "output_type": "execute_result"
    }
   ],
   "source": [
    "# Removing the rows in new_total_sqft column that has None values\n",
    "pun = pun.dropna()\n",
    "pun.isnull().sum()"
   ]
  },
  {
   "cell_type": "code",
   "execution_count": 167,
   "id": "aeae8828",
   "metadata": {},
   "outputs": [
    {
     "name": "stdout",
     "output_type": "stream",
     "text": [
      "<class 'pandas.core.frame.DataFrame'>\n",
      "Int64Index: 13114 entries, 0 to 13157\n",
      "Data columns (total 8 columns):\n",
      " #   Column          Non-Null Count  Dtype  \n",
      "---  ------          --------------  -----  \n",
      " 0   site_location   13114 non-null  object \n",
      " 1   availability    13114 non-null  object \n",
      " 2   BHK             13114 non-null  float64\n",
      " 3   bath            13114 non-null  float64\n",
      " 4   balcony         13114 non-null  float64\n",
      " 5   area_type       13114 non-null  object \n",
      " 6   new_total_sqft  13114 non-null  float64\n",
      " 7   prices          13114 non-null  float64\n",
      "dtypes: float64(5), object(3)\n",
      "memory usage: 922.1+ KB\n"
     ]
    }
   ],
   "source": [
    "pun.info()"
   ]
  },
  {
   "cell_type": "code",
   "execution_count": 168,
   "id": "71949312",
   "metadata": {},
   "outputs": [
    {
     "data": {
      "text/plain": [
       "site_location\n",
       "Khadki             139\n",
       "Nana Peth          139\n",
       "Paud Road          139\n",
       "Deccan Gymkhana    139\n",
       "Kalyani Nagar      139\n",
       "                  ... \n",
       "Mundhawa           134\n",
       "Gokhale Nagar      134\n",
       "Lulla Nagar        134\n",
       "Fatima Nagar       131\n",
       "other                1\n",
       "Name: site_location, Length: 97, dtype: int64"
      ]
     },
     "execution_count": 168,
     "metadata": {},
     "output_type": "execute_result"
    }
   ],
   "source": [
    "# Removing the extra spaces at the end\n",
    "pun.site_location = pun.site_location.apply(lambda x: x.strip())\n",
    "\n",
    "# Calulating all the unqiue values in 'site_location' column\n",
    "location_stats = pun.groupby('site_location')['site_location'].agg('count').sort_values(ascending=False)\n",
    "location_stats"
   ]
  },
  {
   "cell_type": "code",
   "execution_count": 169,
   "id": "6f8e3771",
   "metadata": {},
   "outputs": [
    {
     "name": "stdout",
     "output_type": "stream",
     "text": [
      "1 97\n"
     ]
    }
   ],
   "source": [
    "# Checking locations with less than 10 values\n",
    "\n",
    "print(len(location_stats[location_stats<=10]), len(pun.site_location.unique()))"
   ]
  },
  {
   "cell_type": "code",
   "execution_count": 170,
   "id": "f6bc8858",
   "metadata": {},
   "outputs": [
    {
     "data": {
      "text/plain": [
       "97"
      ]
     },
     "execution_count": 170,
     "metadata": {},
     "output_type": "execute_result"
    }
   ],
   "source": [
    "# Labelling the locations with less than or equal to 10 occurences to 'other'\n",
    "locations_less_than_10 = location_stats[location_stats<=10]\n",
    "\n",
    "pun.site_location = pun.site_location.apply(lambda x: 'other' if x in locations_less_than_10 else x)\n",
    "len(pun.site_location.unique())"
   ]
  },
  {
   "cell_type": "code",
   "execution_count": 171,
   "id": "ed600d8e",
   "metadata": {},
   "outputs": [
    {
     "data": {
      "text/plain": [
       "array(['Not Ready', 'Ready To Move'], dtype=object)"
      ]
     },
     "execution_count": 171,
     "metadata": {},
     "output_type": "execute_result"
    }
   ],
   "source": [
    "# Labelling the dates into Not Ready\n",
    "dates = pun.groupby('availability')['availability'].agg('count').sort_values(ascending=False)\n",
    "\n",
    "dates_not_ready = dates[dates<10000]\n",
    "pun.availability = pun.availability.apply(lambda x: 'Not Ready' if x in dates_not_ready else x)\n",
    "\n",
    "pun.availability.unique()"
   ]
  },
  {
   "cell_type": "code",
   "execution_count": 172,
   "id": "898dfb86",
   "metadata": {
    "scrolled": true
   },
   "outputs": [
    {
     "data": {
      "image/png": "[encoded data removed]",
      "text/plain": [
       "<Figure size 640x480 with 1 Axes>"
      ]
     },
     "metadata": {},
     "output_type": "display_data"
    }
   ],
   "source": [
    "availability = pd.DataFrame(pun.availability.value_counts())\n",
    "availability.columns = ['Counts']\n",
    "availability = availability.sort_values('Counts', ascending=True)\n",
    "plt.pie(x = availability.Counts, labels = availability.index, autopct = '%1.0f%%');"
   ]
  },
  {
   "cell_type": "code",
   "execution_count": null,
   "id": "b20d0eaa",
   "metadata": {},
   "outputs": [],
   "source": []
  },
  {
   "cell_type": "code",
   "execution_count": 173,
   "id": "2dc48baf",
   "metadata": {},
   "outputs": [
    {
     "data": {
      "text/html": [
       "<div>\n",
       "<style scoped>\n",
       "    .dataframe tbody tr th:only-of-type {\n",
       "        vertical-align: middle;\n",
       "    }\n",
       "\n",
       "    .dataframe tbody tr th {\n",
       "        vertical-align: top;\n",
       "    }\n",
       "\n",
       "    .dataframe thead th {\n",
       "        text-align: right;\n",
       "    }\n",
       "</style>\n",
       "<table border=\"1\" class=\"dataframe\">\n",
       "  <thead>\n",
       "    <tr style=\"text-align: right;\">\n",
       "      <th></th>\n",
       "      <th>site_location</th>\n",
       "      <th>availability</th>\n",
       "      <th>BHK</th>\n",
       "      <th>bath</th>\n",
       "      <th>balcony</th>\n",
       "      <th>area_type</th>\n",
       "      <th>new_total_sqft</th>\n",
       "      <th>prices</th>\n",
       "      <th>price_per_sqft</th>\n",
       "    </tr>\n",
       "  </thead>\n",
       "  <tbody>\n",
       "    <tr>\n",
       "      <th>0</th>\n",
       "      <td>Navi Peth</td>\n",
       "      <td>Not Ready</td>\n",
       "      <td>2.0</td>\n",
       "      <td>2.0</td>\n",
       "      <td>0.0</td>\n",
       "      <td>Super built-up  Area</td>\n",
       "      <td>1142.5</td>\n",
       "      <td>43.415</td>\n",
       "      <td>3800.000000</td>\n",
       "    </tr>\n",
       "    <tr>\n",
       "      <th>1</th>\n",
       "      <td>Padmavati</td>\n",
       "      <td>Ready To Move</td>\n",
       "      <td>5.0</td>\n",
       "      <td>5.0</td>\n",
       "      <td>2.0</td>\n",
       "      <td>Super built-up  Area</td>\n",
       "      <td>4239.0</td>\n",
       "      <td>423.000</td>\n",
       "      <td>9978.768577</td>\n",
       "    </tr>\n",
       "    <tr>\n",
       "      <th>2</th>\n",
       "      <td>Parvati Darshan</td>\n",
       "      <td>Ready To Move</td>\n",
       "      <td>2.0</td>\n",
       "      <td>1.0</td>\n",
       "      <td>0.0</td>\n",
       "      <td>Built-up  Area</td>\n",
       "      <td>884.0</td>\n",
       "      <td>58.000</td>\n",
       "      <td>6561.085973</td>\n",
       "    </tr>\n",
       "    <tr>\n",
       "      <th>3</th>\n",
       "      <td>Pashan</td>\n",
       "      <td>Not Ready</td>\n",
       "      <td>2.0</td>\n",
       "      <td>2.0</td>\n",
       "      <td>1.0</td>\n",
       "      <td>Super built-up  Area</td>\n",
       "      <td>1045.0</td>\n",
       "      <td>98.890</td>\n",
       "      <td>9463.157895</td>\n",
       "    </tr>\n",
       "    <tr>\n",
       "      <th>4</th>\n",
       "      <td>Paud Road</td>\n",
       "      <td>Ready To Move</td>\n",
       "      <td>2.0</td>\n",
       "      <td>2.0</td>\n",
       "      <td>2.0</td>\n",
       "      <td>Super built-up  Area</td>\n",
       "      <td>1019.0</td>\n",
       "      <td>49.860</td>\n",
       "      <td>4893.032385</td>\n",
       "    </tr>\n",
       "    <tr>\n",
       "      <th>...</th>\n",
       "      <td>...</td>\n",
       "      <td>...</td>\n",
       "      <td>...</td>\n",
       "      <td>...</td>\n",
       "      <td>...</td>\n",
       "      <td>...</td>\n",
       "      <td>...</td>\n",
       "      <td>...</td>\n",
       "      <td>...</td>\n",
       "    </tr>\n",
       "    <tr>\n",
       "      <th>13153</th>\n",
       "      <td>Pashan</td>\n",
       "      <td>Ready To Move</td>\n",
       "      <td>5.0</td>\n",
       "      <td>4.0</td>\n",
       "      <td>0.0</td>\n",
       "      <td>Built-up  Area</td>\n",
       "      <td>3453.0</td>\n",
       "      <td>231.000</td>\n",
       "      <td>6689.834926</td>\n",
       "    </tr>\n",
       "    <tr>\n",
       "      <th>13154</th>\n",
       "      <td>Paud Road</td>\n",
       "      <td>Ready To Move</td>\n",
       "      <td>4.0</td>\n",
       "      <td>5.0</td>\n",
       "      <td>0.0</td>\n",
       "      <td>Super built-up  Area</td>\n",
       "      <td>3600.0</td>\n",
       "      <td>400.000</td>\n",
       "      <td>11111.111111</td>\n",
       "    </tr>\n",
       "    <tr>\n",
       "      <th>13155</th>\n",
       "      <td>Pirangut</td>\n",
       "      <td>Ready To Move</td>\n",
       "      <td>2.0</td>\n",
       "      <td>2.0</td>\n",
       "      <td>1.0</td>\n",
       "      <td>Built-up  Area</td>\n",
       "      <td>1141.0</td>\n",
       "      <td>60.000</td>\n",
       "      <td>5258.545136</td>\n",
       "    </tr>\n",
       "    <tr>\n",
       "      <th>13156</th>\n",
       "      <td>Prabhat Road</td>\n",
       "      <td>Not Ready</td>\n",
       "      <td>4.0</td>\n",
       "      <td>4.0</td>\n",
       "      <td>1.0</td>\n",
       "      <td>Super built-up  Area</td>\n",
       "      <td>4689.0</td>\n",
       "      <td>488.000</td>\n",
       "      <td>10407.336319</td>\n",
       "    </tr>\n",
       "    <tr>\n",
       "      <th>13157</th>\n",
       "      <td>Pune Railway Station</td>\n",
       "      <td>Ready To Move</td>\n",
       "      <td>1.0</td>\n",
       "      <td>1.0</td>\n",
       "      <td>1.0</td>\n",
       "      <td>Super built-up  Area</td>\n",
       "      <td>550.0</td>\n",
       "      <td>17.000</td>\n",
       "      <td>3090.909091</td>\n",
       "    </tr>\n",
       "  </tbody>\n",
       "</table>\n",
       "<p>13114 rows × 9 columns</p>\n",
       "</div>"
      ],
      "text/plain": [
       "              site_location   availability  BHK  bath  balcony  \\\n",
       "0                 Navi Peth      Not Ready  2.0   2.0      0.0   \n",
       "1                 Padmavati  Ready To Move  5.0   5.0      2.0   \n",
       "2           Parvati Darshan  Ready To Move  2.0   1.0      0.0   \n",
       "3                    Pashan      Not Ready  2.0   2.0      1.0   \n",
       "4                 Paud Road  Ready To Move  2.0   2.0      2.0   \n",
       "...                     ...            ...  ...   ...      ...   \n",
       "13153                Pashan  Ready To Move  5.0   4.0      0.0   \n",
       "13154             Paud Road  Ready To Move  4.0   5.0      0.0   \n",
       "13155              Pirangut  Ready To Move  2.0   2.0      1.0   \n",
       "13156          Prabhat Road      Not Ready  4.0   4.0      1.0   \n",
       "13157  Pune Railway Station  Ready To Move  1.0   1.0      1.0   \n",
       "\n",
       "                  area_type  new_total_sqft   prices  price_per_sqft  \n",
       "0      Super built-up  Area          1142.5   43.415     3800.000000  \n",
       "1      Super built-up  Area          4239.0  423.000     9978.768577  \n",
       "2            Built-up  Area           884.0   58.000     6561.085973  \n",
       "3      Super built-up  Area          1045.0   98.890     9463.157895  \n",
       "4      Super built-up  Area          1019.0   49.860     4893.032385  \n",
       "...                     ...             ...      ...             ...  \n",
       "13153        Built-up  Area          3453.0  231.000     6689.834926  \n",
       "13154  Super built-up  Area          3600.0  400.000    11111.111111  \n",
       "13155        Built-up  Area          1141.0   60.000     5258.545136  \n",
       "13156  Super built-up  Area          4689.0  488.000    10407.336319  \n",
       "13157  Super built-up  Area           550.0   17.000     3090.909091  \n",
       "\n",
       "[13114 rows x 9 columns]"
      ]
     },
     "execution_count": 173,
     "metadata": {},
     "output_type": "execute_result"
    }
   ],
   "source": [
    "## Adding new column as price per_sq_feet\n",
    "\n",
    "pun['price_per_sqft'] = pun['prices']*100000/pun['new_total_sqft']\n",
    "pun"
   ]
  },
  {
   "cell_type": "code",
   "execution_count": 174,
   "id": "c4bca4f2",
   "metadata": {},
   "outputs": [
    {
     "data": {
      "text/plain": [
       "count    1.311400e+04\n",
       "mean     7.845414e+03\n",
       "std      1.070719e+05\n",
       "min      2.678298e+02\n",
       "25%      4.260592e+03\n",
       "50%      5.416667e+03\n",
       "75%      7.239955e+03\n",
       "max      1.200000e+07\n",
       "Name: price_per_sqft, dtype: float64"
      ]
     },
     "execution_count": 174,
     "metadata": {},
     "output_type": "execute_result"
    }
   ],
   "source": [
    "pun.price_per_sqft.describe()"
   ]
  },
  {
   "cell_type": "markdown",
   "id": "e14b0c18",
   "metadata": {},
   "source": [
    "### Outlier Removal Using Business Logic"
   ]
  },
  {
   "cell_type": "markdown",
   "id": "1f58a5fc",
   "metadata": {},
   "source": [
    "**As a data scientist when you have a conversation with your business manager (who has expertise in real estate),\n",
    "he will explain you that usually when square ft per bedroom is 300 then its a 1 BHK (or 2 BHK Flat is minimum 600 sqft \n",
    "if you have for example 400 sqft apartment with 2 BHK than that seems suspicious \n",
    "and can be removed as an outlier. \n",
    "We will remove such outliers by keeping our minimum thresold per BHK to be 300 sqft**"
   ]
  },
  {
   "cell_type": "code",
   "execution_count": 175,
   "id": "88fc2cbb",
   "metadata": {},
   "outputs": [
    {
     "data": {
      "text/html": [
       "<div>\n",
       "<style scoped>\n",
       "    .dataframe tbody tr th:only-of-type {\n",
       "        vertical-align: middle;\n",
       "    }\n",
       "\n",
       "    .dataframe tbody tr th {\n",
       "        vertical-align: top;\n",
       "    }\n",
       "\n",
       "    .dataframe thead th {\n",
       "        text-align: right;\n",
       "    }\n",
       "</style>\n",
       "<table border=\"1\" class=\"dataframe\">\n",
       "  <thead>\n",
       "    <tr style=\"text-align: right;\">\n",
       "      <th></th>\n",
       "      <th>site_location</th>\n",
       "      <th>availability</th>\n",
       "      <th>BHK</th>\n",
       "      <th>bath</th>\n",
       "      <th>balcony</th>\n",
       "      <th>area_type</th>\n",
       "      <th>new_total_sqft</th>\n",
       "      <th>prices</th>\n",
       "      <th>price_per_sqft</th>\n",
       "    </tr>\n",
       "  </thead>\n",
       "  <tbody>\n",
       "    <tr>\n",
       "      <th>18</th>\n",
       "      <td>Sinhagad Road</td>\n",
       "      <td>Ready To Move</td>\n",
       "      <td>4.0</td>\n",
       "      <td>3.0</td>\n",
       "      <td>1.0</td>\n",
       "      <td>Plot  Area</td>\n",
       "      <td>1080.0</td>\n",
       "      <td>155.0</td>\n",
       "      <td>14351.851852</td>\n",
       "    </tr>\n",
       "    <tr>\n",
       "      <th>28</th>\n",
       "      <td>Wakadewadi</td>\n",
       "      <td>Ready To Move</td>\n",
       "      <td>4.0</td>\n",
       "      <td>4.0</td>\n",
       "      <td>0.0</td>\n",
       "      <td>Plot  Area</td>\n",
       "      <td>700.0</td>\n",
       "      <td>72.0</td>\n",
       "      <td>10285.714286</td>\n",
       "    </tr>\n",
       "    <tr>\n",
       "      <th>33</th>\n",
       "      <td>Ambegaon Budruk</td>\n",
       "      <td>Ready To Move</td>\n",
       "      <td>3.0</td>\n",
       "      <td>4.0</td>\n",
       "      <td>0.0</td>\n",
       "      <td>Plot  Area</td>\n",
       "      <td>600.0</td>\n",
       "      <td>95.0</td>\n",
       "      <td>15833.333333</td>\n",
       "    </tr>\n",
       "    <tr>\n",
       "      <th>48</th>\n",
       "      <td>Dapodi</td>\n",
       "      <td>Ready To Move</td>\n",
       "      <td>6.0</td>\n",
       "      <td>4.0</td>\n",
       "      <td>2.0</td>\n",
       "      <td>Plot  Area</td>\n",
       "      <td>1200.0</td>\n",
       "      <td>225.0</td>\n",
       "      <td>18750.000000</td>\n",
       "    </tr>\n",
       "    <tr>\n",
       "      <th>63</th>\n",
       "      <td>Hadapsar</td>\n",
       "      <td>Ready To Move</td>\n",
       "      <td>4.0</td>\n",
       "      <td>4.0</td>\n",
       "      <td>2.0</td>\n",
       "      <td>Plot  Area</td>\n",
       "      <td>315.0</td>\n",
       "      <td>90.0</td>\n",
       "      <td>28571.428571</td>\n",
       "    </tr>\n",
       "  </tbody>\n",
       "</table>\n",
       "</div>"
      ],
      "text/plain": [
       "      site_location   availability  BHK  bath  balcony   area_type  \\\n",
       "18    Sinhagad Road  Ready To Move  4.0   3.0      1.0  Plot  Area   \n",
       "28       Wakadewadi  Ready To Move  4.0   4.0      0.0  Plot  Area   \n",
       "33  Ambegaon Budruk  Ready To Move  3.0   4.0      0.0  Plot  Area   \n",
       "48           Dapodi  Ready To Move  6.0   4.0      2.0  Plot  Area   \n",
       "63         Hadapsar  Ready To Move  4.0   4.0      2.0  Plot  Area   \n",
       "\n",
       "    new_total_sqft  prices  price_per_sqft  \n",
       "18          1080.0   155.0    14351.851852  \n",
       "28           700.0    72.0    10285.714286  \n",
       "33           600.0    95.0    15833.333333  \n",
       "48          1200.0   225.0    18750.000000  \n",
       "63           315.0    90.0    28571.428571  "
      ]
     },
     "execution_count": 175,
     "metadata": {},
     "output_type": "execute_result"
    }
   ],
   "source": [
    "pun[pun.new_total_sqft/pun.BHK<300].head()"
   ]
  },
  {
   "cell_type": "markdown",
   "id": "d38a0a40",
   "metadata": {},
   "source": [
    "##### By see the above values for 4,3 & 6 BHK it seems that the total_sqft is not appropriate . So we can easily remove such outliers"
   ]
  },
  {
   "cell_type": "code",
   "execution_count": 176,
   "id": "53326fe1",
   "metadata": {},
   "outputs": [
    {
     "data": {
      "text/plain": [
       "(12486, 9)"
      ]
     },
     "execution_count": 176,
     "metadata": {},
     "output_type": "execute_result"
    }
   ],
   "source": [
    "pun = pun[~(pun.new_total_sqft/pun.BHK<300)]\n",
    "pun.shape"
   ]
  },
  {
   "cell_type": "markdown",
   "id": "141ad6d8",
   "metadata": {},
   "source": [
    "### OUTLIER REMOVAL USING BATHROOMS FEATURE"
   ]
  },
  {
   "cell_type": "code",
   "execution_count": 177,
   "id": "18e29e9e",
   "metadata": {},
   "outputs": [
    {
     "data": {
      "text/plain": [
       "Text(0, 0.5, 'Count')"
      ]
     },
     "execution_count": 177,
     "metadata": {},
     "output_type": "execute_result"
    },
    {
     "data": {
      "image/png": "[encoded data removed]",
      "text/plain": [
       "<Figure size 640x480 with 1 Axes>"
      ]
     },
     "metadata": {},
     "output_type": "display_data"
    }
   ],
   "source": [
    "plt.hist(pun.bath,rwidth=0.8)\n",
    "plt.xlabel(\"Number of bathrooms\")\n",
    "plt.ylabel(\"Count\")"
   ]
  },
  {
   "cell_type": "code",
   "execution_count": 178,
   "id": "32674f6e",
   "metadata": {
    "scrolled": true
   },
   "outputs": [
    {
     "data": {
      "text/html": [
       "<div>\n",
       "<style scoped>\n",
       "    .dataframe tbody tr th:only-of-type {\n",
       "        vertical-align: middle;\n",
       "    }\n",
       "\n",
       "    .dataframe tbody tr th {\n",
       "        vertical-align: top;\n",
       "    }\n",
       "\n",
       "    .dataframe thead th {\n",
       "        text-align: right;\n",
       "    }\n",
       "</style>\n",
       "<table border=\"1\" class=\"dataframe\">\n",
       "  <thead>\n",
       "    <tr style=\"text-align: right;\">\n",
       "      <th></th>\n",
       "      <th>site_location</th>\n",
       "      <th>availability</th>\n",
       "      <th>BHK</th>\n",
       "      <th>bath</th>\n",
       "      <th>balcony</th>\n",
       "      <th>area_type</th>\n",
       "      <th>new_total_sqft</th>\n",
       "      <th>prices</th>\n",
       "      <th>price_per_sqft</th>\n",
       "    </tr>\n",
       "  </thead>\n",
       "  <tbody>\n",
       "    <tr>\n",
       "      <th>2583</th>\n",
       "      <td>Ghorpade Peth</td>\n",
       "      <td>Ready To Move</td>\n",
       "      <td>6.0</td>\n",
       "      <td>9.0</td>\n",
       "      <td>1.0</td>\n",
       "      <td>Super built-up  Area</td>\n",
       "      <td>11338.0</td>\n",
       "      <td>1000.0</td>\n",
       "      <td>8819.897689</td>\n",
       "    </tr>\n",
       "    <tr>\n",
       "      <th>6744</th>\n",
       "      <td>Dhole Patil Road</td>\n",
       "      <td>Not Ready</td>\n",
       "      <td>5.0</td>\n",
       "      <td>8.0</td>\n",
       "      <td>3.0</td>\n",
       "      <td>Super built-up  Area</td>\n",
       "      <td>7500.0</td>\n",
       "      <td>1700.0</td>\n",
       "      <td>22666.666667</td>\n",
       "    </tr>\n",
       "    <tr>\n",
       "      <th>7602</th>\n",
       "      <td>Ghorpadi</td>\n",
       "      <td>Ready To Move</td>\n",
       "      <td>4.0</td>\n",
       "      <td>7.0</td>\n",
       "      <td>2.0</td>\n",
       "      <td>Built-up  Area</td>\n",
       "      <td>2460.0</td>\n",
       "      <td>80.0</td>\n",
       "      <td>3252.032520</td>\n",
       "    </tr>\n",
       "    <tr>\n",
       "      <th>9388</th>\n",
       "      <td>Baner</td>\n",
       "      <td>Ready To Move</td>\n",
       "      <td>0.5</td>\n",
       "      <td>8.0</td>\n",
       "      <td>3.0</td>\n",
       "      <td>Plot  Area</td>\n",
       "      <td>1200.0</td>\n",
       "      <td>230.0</td>\n",
       "      <td>19166.666667</td>\n",
       "    </tr>\n",
       "    <tr>\n",
       "      <th>9645</th>\n",
       "      <td>Raviwar Peth</td>\n",
       "      <td>Ready To Move</td>\n",
       "      <td>0.5</td>\n",
       "      <td>9.0</td>\n",
       "      <td>0.0</td>\n",
       "      <td>Plot  Area</td>\n",
       "      <td>3300.0</td>\n",
       "      <td>450.0</td>\n",
       "      <td>13636.363636</td>\n",
       "    </tr>\n",
       "    <tr>\n",
       "      <th>9849</th>\n",
       "      <td>Tilak Road</td>\n",
       "      <td>Ready To Move</td>\n",
       "      <td>3.0</td>\n",
       "      <td>6.0</td>\n",
       "      <td>2.0</td>\n",
       "      <td>Plot  Area</td>\n",
       "      <td>2400.0</td>\n",
       "      <td>775.0</td>\n",
       "      <td>32291.666667</td>\n",
       "    </tr>\n",
       "    <tr>\n",
       "      <th>10989</th>\n",
       "      <td>Vadgaon Budruk</td>\n",
       "      <td>Ready To Move</td>\n",
       "      <td>0.5</td>\n",
       "      <td>11.0</td>\n",
       "      <td>0.0</td>\n",
       "      <td>Plot  Area</td>\n",
       "      <td>1200.0</td>\n",
       "      <td>105.0</td>\n",
       "      <td>8750.000000</td>\n",
       "    </tr>\n",
       "    <tr>\n",
       "      <th>11185</th>\n",
       "      <td>Warje</td>\n",
       "      <td>Ready To Move</td>\n",
       "      <td>0.5</td>\n",
       "      <td>9.0</td>\n",
       "      <td>3.0</td>\n",
       "      <td>Plot  Area</td>\n",
       "      <td>3280.0</td>\n",
       "      <td>450.0</td>\n",
       "      <td>13719.512195</td>\n",
       "    </tr>\n",
       "    <tr>\n",
       "      <th>11222</th>\n",
       "      <td>Karve Nagar</td>\n",
       "      <td>Ready To Move</td>\n",
       "      <td>4.0</td>\n",
       "      <td>8.0</td>\n",
       "      <td>0.0</td>\n",
       "      <td>Built-up  Area</td>\n",
       "      <td>7000.0</td>\n",
       "      <td>450.0</td>\n",
       "      <td>6428.571429</td>\n",
       "    </tr>\n",
       "    <tr>\n",
       "      <th>11953</th>\n",
       "      <td>Baner</td>\n",
       "      <td>Ready To Move</td>\n",
       "      <td>3.0</td>\n",
       "      <td>6.0</td>\n",
       "      <td>2.0</td>\n",
       "      <td>Super built-up  Area</td>\n",
       "      <td>1806.0</td>\n",
       "      <td>116.0</td>\n",
       "      <td>6423.034330</td>\n",
       "    </tr>\n",
       "    <tr>\n",
       "      <th>12291</th>\n",
       "      <td>Mundhawa</td>\n",
       "      <td>Ready To Move</td>\n",
       "      <td>4.0</td>\n",
       "      <td>8.0</td>\n",
       "      <td>0.0</td>\n",
       "      <td>Plot  Area</td>\n",
       "      <td>4350.0</td>\n",
       "      <td>2600.0</td>\n",
       "      <td>59770.114943</td>\n",
       "    </tr>\n",
       "  </tbody>\n",
       "</table>\n",
       "</div>"
      ],
      "text/plain": [
       "          site_location   availability  BHK  bath  balcony  \\\n",
       "2583      Ghorpade Peth  Ready To Move  6.0   9.0      1.0   \n",
       "6744   Dhole Patil Road      Not Ready  5.0   8.0      3.0   \n",
       "7602           Ghorpadi  Ready To Move  4.0   7.0      2.0   \n",
       "9388              Baner  Ready To Move  0.5   8.0      3.0   \n",
       "9645       Raviwar Peth  Ready To Move  0.5   9.0      0.0   \n",
       "9849         Tilak Road  Ready To Move  3.0   6.0      2.0   \n",
       "10989    Vadgaon Budruk  Ready To Move  0.5  11.0      0.0   \n",
       "11185             Warje  Ready To Move  0.5   9.0      3.0   \n",
       "11222       Karve Nagar  Ready To Move  4.0   8.0      0.0   \n",
       "11953             Baner  Ready To Move  3.0   6.0      2.0   \n",
       "12291          Mundhawa  Ready To Move  4.0   8.0      0.0   \n",
       "\n",
       "                  area_type  new_total_sqft  prices  price_per_sqft  \n",
       "2583   Super built-up  Area         11338.0  1000.0     8819.897689  \n",
       "6744   Super built-up  Area          7500.0  1700.0    22666.666667  \n",
       "7602         Built-up  Area          2460.0    80.0     3252.032520  \n",
       "9388             Plot  Area          1200.0   230.0    19166.666667  \n",
       "9645             Plot  Area          3300.0   450.0    13636.363636  \n",
       "9849             Plot  Area          2400.0   775.0    32291.666667  \n",
       "10989            Plot  Area          1200.0   105.0     8750.000000  \n",
       "11185            Plot  Area          3280.0   450.0    13719.512195  \n",
       "11222        Built-up  Area          7000.0   450.0     6428.571429  \n",
       "11953  Super built-up  Area          1806.0   116.0     6423.034330  \n",
       "12291            Plot  Area          4350.0  2600.0    59770.114943  "
      ]
     },
     "execution_count": 178,
     "metadata": {},
     "output_type": "execute_result"
    }
   ],
   "source": [
    "pun[pun.bath>pun.BHK+2]"
   ]
  },
  {
   "cell_type": "markdown",
   "id": "c818d2d7",
   "metadata": {},
   "source": [
    "**AGAIN THE BUSINESS MANAGER HAS A CONVERSATION WITH YOU (I.E. A DATA SCIENTIST) THAT IF YOU HAVE A 4 BEDROOM HOME AND EVEN IF YOU HAVE A BATHROOM IN ALL 4 ROOMS PLUS ONE GUEST BATHROOM, YOU WILL HAVE A TOTAL BATH = TOTAL BED + 1 MAX. ANYTHING ABOVE THAT IS AN OUTLIER OR A DATA ERROR AND CAN BE REMOVED**"
   ]
  },
  {
   "cell_type": "code",
   "execution_count": 179,
   "id": "37c479f5",
   "metadata": {},
   "outputs": [
    {
     "data": {
      "text/plain": [
       "(12333, 9)"
      ]
     },
     "execution_count": 179,
     "metadata": {},
     "output_type": "execute_result"
    }
   ],
   "source": [
    "pun = pun[pun.bath<pun.BHK+2]\n",
    "pun.shape"
   ]
  },
  {
   "cell_type": "code",
   "execution_count": null,
   "id": "871d8d81",
   "metadata": {},
   "outputs": [],
   "source": []
  },
  {
   "cell_type": "code",
   "execution_count": 180,
   "id": "85401215",
   "metadata": {},
   "outputs": [],
   "source": [
    "#pun = pun.drop('price_per_sqft', axis = 1)"
   ]
  },
  {
   "cell_type": "markdown",
   "id": "f7e7737f",
   "metadata": {},
   "source": [
    "### Spliting the data into 2 parts for better accuracy"
   ]
  },
  {
   "cell_type": "code",
   "execution_count": 181,
   "id": "df65f1f8",
   "metadata": {},
   "outputs": [],
   "source": [
    "pun1 = pun[pun.prices < 100 ]\n",
    "pun2 = pun[pun.prices >= 100 ]"
   ]
  },
  {
   "cell_type": "code",
   "execution_count": 182,
   "id": "642e8258",
   "metadata": {},
   "outputs": [
    {
     "data": {
      "text/plain": [
       "(8692, 9)"
      ]
     },
     "execution_count": 182,
     "metadata": {},
     "output_type": "execute_result"
    }
   ],
   "source": [
    "pun1.shape"
   ]
  },
  {
   "cell_type": "code",
   "execution_count": 183,
   "id": "db4a86c5",
   "metadata": {},
   "outputs": [
    {
     "data": {
      "text/plain": [
       "Super built-up  Area    6590\n",
       "Built-up  Area          1603\n",
       "Plot  Area               439\n",
       "Carpet  Area              60\n",
       "Name: area_type, dtype: int64"
      ]
     },
     "execution_count": 183,
     "metadata": {},
     "output_type": "execute_result"
    }
   ],
   "source": [
    "# Checking the unique values in 'area_type' column\n",
    "pun1.area_type.value_counts()\n",
    "\n",
    "# Since the column has only few unique values, we don't perform any operation"
   ]
  },
  {
   "cell_type": "code",
   "execution_count": 184,
   "id": "028e9bd6",
   "metadata": {},
   "outputs": [
    {
     "name": "stderr",
     "output_type": "stream",
     "text": [
      "C:\\Users\\andu_13\\AppData\\Local\\Temp\\ipykernel_10544\\2315590936.py:3: SettingWithCopyWarning: \n",
      "A value is trying to be set on a copy of a slice from a DataFrame.\n",
      "Try using .loc[row_indexer,col_indexer] = value instead\n",
      "\n",
      "See the caveats in the documentation: https://pandas.pydata.org/pandas-docs/stable/user_guide/indexing.html#returning-a-view-versus-a-copy\n",
      "  pun1.site_location = le.fit_transform(pun1.site_location)\n",
      "C:\\Users\\andu_13\\AppData\\Local\\Temp\\ipykernel_10544\\2315590936.py:4: SettingWithCopyWarning: \n",
      "A value is trying to be set on a copy of a slice from a DataFrame.\n",
      "Try using .loc[row_indexer,col_indexer] = value instead\n",
      "\n",
      "See the caveats in the documentation: https://pandas.pydata.org/pandas-docs/stable/user_guide/indexing.html#returning-a-view-versus-a-copy\n",
      "  pun1.availability = le.fit_transform(pun1.availability)\n",
      "C:\\Users\\andu_13\\AppData\\Local\\Temp\\ipykernel_10544\\2315590936.py:5: SettingWithCopyWarning: \n",
      "A value is trying to be set on a copy of a slice from a DataFrame.\n",
      "Try using .loc[row_indexer,col_indexer] = value instead\n",
      "\n",
      "See the caveats in the documentation: https://pandas.pydata.org/pandas-docs/stable/user_guide/indexing.html#returning-a-view-versus-a-copy\n",
      "  pun1.area_type = pun1.area_type.replace({'Super built-up  Area':0, 'Built-up  Area':1, 'Plot  Area':2,'Carpet  Area':3})\n"
     ]
    }
   ],
   "source": [
    "# Replacing the objects into intergers\n",
    "\n",
    "pun1.site_location = le.fit_transform(pun1.site_location)\n",
    "pun1.availability = le.fit_transform(pun1.availability)\n",
    "pun1.area_type = pun1.area_type.replace({'Super built-up  Area':0, 'Built-up  Area':1, 'Plot  Area':2,'Carpet  Area':3})"
   ]
  },
  {
   "cell_type": "code",
   "execution_count": 185,
   "id": "eda4aa8f",
   "metadata": {},
   "outputs": [
    {
     "name": "stdout",
     "output_type": "stream",
     "text": [
      "<class 'pandas.core.frame.DataFrame'>\n",
      "Int64Index: 8692 entries, 0 to 13157\n",
      "Data columns (total 9 columns):\n",
      " #   Column          Non-Null Count  Dtype  \n",
      "---  ------          --------------  -----  \n",
      " 0   site_location   8692 non-null   int32  \n",
      " 1   availability    8692 non-null   int32  \n",
      " 2   BHK             8692 non-null   float64\n",
      " 3   bath            8692 non-null   float64\n",
      " 4   balcony         8692 non-null   float64\n",
      " 5   area_type       8692 non-null   int64  \n",
      " 6   new_total_sqft  8692 non-null   float64\n",
      " 7   prices          8692 non-null   float64\n",
      " 8   price_per_sqft  8692 non-null   float64\n",
      "dtypes: float64(6), int32(2), int64(1)\n",
      "memory usage: 611.2 KB\n"
     ]
    }
   ],
   "source": [
    "pun1.info()"
   ]
  },
  {
   "cell_type": "code",
   "execution_count": 186,
   "id": "0f3bbd30",
   "metadata": {},
   "outputs": [],
   "source": [
    "# pun = df1"
   ]
  },
  {
   "cell_type": "code",
   "execution_count": null,
   "id": "cbb3dd5f",
   "metadata": {},
   "outputs": [],
   "source": []
  },
  {
   "cell_type": "markdown",
   "id": "fd6e6300",
   "metadata": {},
   "source": [
    "## Random Sampling"
   ]
  },
  {
   "cell_type": "code",
   "execution_count": 187,
   "id": "eb75a1d5",
   "metadata": {},
   "outputs": [],
   "source": [
    "from sklearn.model_selection import train_test_split"
   ]
  },
  {
   "cell_type": "code",
   "execution_count": 188,
   "id": "e6130b32",
   "metadata": {},
   "outputs": [
    {
     "data": {
      "text/plain": [
       "(8692, 9)"
      ]
     },
     "execution_count": 188,
     "metadata": {},
     "output_type": "execute_result"
    }
   ],
   "source": [
    "pun1.shape"
   ]
  },
  {
   "cell_type": "code",
   "execution_count": 189,
   "id": "d550da19",
   "metadata": {},
   "outputs": [],
   "source": [
    "# Train Test Split & Random Sampling\n",
    "\n",
    "pun1_train , pun1_test = train_test_split(pun1 , test_size=0.25)\n",
    "\n",
    "pun1_train_x = pun1_train.iloc[:: , 0:-1]\n",
    "pun1_train_y = pun1_train.iloc[: , -1]\n",
    "\n",
    "pun1_test_x = pun1_test.iloc[: , 0:-1]\n",
    "pun1_test_y = pun1_test.iloc[: , -1]"
   ]
  },
  {
   "cell_type": "code",
   "execution_count": 190,
   "id": "05a2a0c5",
   "metadata": {},
   "outputs": [
    {
     "data": {
      "text/plain": [
       "(6519, 8)"
      ]
     },
     "execution_count": 190,
     "metadata": {},
     "output_type": "execute_result"
    }
   ],
   "source": [
    "pun1_train_x.shape"
   ]
  },
  {
   "cell_type": "markdown",
   "id": "2ea52c7f",
   "metadata": {},
   "source": [
    "## Model Building"
   ]
  },
  {
   "cell_type": "markdown",
   "id": "7a669ed8",
   "metadata": {},
   "source": [
    "### Linear Regression Model"
   ]
  },
  {
   "cell_type": "code",
   "execution_count": 191,
   "id": "1a294ac2",
   "metadata": {},
   "outputs": [],
   "source": [
    "from sklearn.linear_model import LinearRegression\n",
    "linreg = LinearRegression(fit_intercept=True)"
   ]
  },
  {
   "cell_type": "markdown",
   "id": "09c403f2",
   "metadata": {},
   "source": [
    "### Model For Tain Data"
   ]
  },
  {
   "cell_type": "code",
   "execution_count": 192,
   "id": "c395486b",
   "metadata": {},
   "outputs": [
    {
     "data": {
      "text/html": [
       "<style>#sk-container-id-3 {color: black;}#sk-container-id-3 pre{padding: 0;}#sk-container-id-3 div.sk-toggleable {background-color: white;}#sk-container-id-3 label.sk-toggleable__label {cursor: pointer;display: block;width: 100%;margin-bottom: 0;padding: 0.3em;box-sizing: border-box;text-align: center;}#sk-container-id-3 label.sk-toggleable__label-arrow:before {content: \"▸\";float: left;margin-right: 0.25em;color: #696969;}#sk-container-id-3 label.sk-toggleable__label-arrow:hover:before {color: black;}#sk-container-id-3 div.sk-estimator:hover label.sk-toggleable__label-arrow:before {color: black;}#sk-container-id-3 div.sk-toggleable__content {max-height: 0;max-width: 0;overflow: hidden;text-align: left;background-color: #f0f8ff;}#sk-container-id-3 div.sk-toggleable__content pre {margin: 0.2em;color: black;border-radius: 0.25em;background-color: #f0f8ff;}#sk-container-id-3 input.sk-toggleable__control:checked~div.sk-toggleable__content {max-height: 200px;max-width: 100%;overflow: auto;}#sk-container-id-3 input.sk-toggleable__control:checked~label.sk-toggleable__label-arrow:before {content: \"▾\";}#sk-container-id-3 div.sk-estimator input.sk-toggleable__control:checked~label.sk-toggleable__label {background-color: #d4ebff;}#sk-container-id-3 div.sk-label input.sk-toggleable__control:checked~label.sk-toggleable__label {background-color: #d4ebff;}#sk-container-id-3 input.sk-hidden--visually {border: 0;clip: rect(1px 1px 1px 1px);clip: rect(1px, 1px, 1px, 1px);height: 1px;margin: -1px;overflow: hidden;padding: 0;position: absolute;width: 1px;}#sk-container-id-3 div.sk-estimator {font-family: monospace;background-color: #f0f8ff;border: 1px dotted black;border-radius: 0.25em;box-sizing: border-box;margin-bottom: 0.5em;}#sk-container-id-3 div.sk-estimator:hover {background-color: #d4ebff;}#sk-container-id-3 div.sk-parallel-item::after {content: \"\";width: 100%;border-bottom: 1px solid gray;flex-grow: 1;}#sk-container-id-3 div.sk-label:hover label.sk-toggleable__label {background-color: #d4ebff;}#sk-container-id-3 div.sk-serial::before {content: \"\";position: absolute;border-left: 1px solid gray;box-sizing: border-box;top: 0;bottom: 0;left: 50%;z-index: 0;}#sk-container-id-3 div.sk-serial {display: flex;flex-direction: column;align-items: center;background-color: white;padding-right: 0.2em;padding-left: 0.2em;position: relative;}#sk-container-id-3 div.sk-item {position: relative;z-index: 1;}#sk-container-id-3 div.sk-parallel {display: flex;align-items: stretch;justify-content: center;background-color: white;position: relative;}#sk-container-id-3 div.sk-item::before, #sk-container-id-3 div.sk-parallel-item::before {content: \"\";position: absolute;border-left: 1px solid gray;box-sizing: border-box;top: 0;bottom: 0;left: 50%;z-index: -1;}#sk-container-id-3 div.sk-parallel-item {display: flex;flex-direction: column;z-index: 1;position: relative;background-color: white;}#sk-container-id-3 div.sk-parallel-item:first-child::after {align-self: flex-end;width: 50%;}#sk-container-id-3 div.sk-parallel-item:last-child::after {align-self: flex-start;width: 50%;}#sk-container-id-3 div.sk-parallel-item:only-child::after {width: 0;}#sk-container-id-3 div.sk-dashed-wrapped {border: 1px dashed gray;margin: 0 0.4em 0.5em 0.4em;box-sizing: border-box;padding-bottom: 0.4em;background-color: white;}#sk-container-id-3 div.sk-label label {font-family: monospace;font-weight: bold;display: inline-block;line-height: 1.2em;}#sk-container-id-3 div.sk-label-container {text-align: center;}#sk-container-id-3 div.sk-container {/* jupyter's `normalize.less` sets `[hidden] { display: none; }` but bootstrap.min.css set `[hidden] { display: none !important; }` so we also need the `!important` here to be able to override the default hidden behavior on the sphinx rendered scikit-learn.org. See: https://github.com/scikit-learn/scikit-learn/issues/21755 */display: inline-block !important;position: relative;}#sk-container-id-3 div.sk-text-repr-fallback {display: none;}</style><div id=\"sk-container-id-3\" class=\"sk-top-container\"><div class=\"sk-text-repr-fallback\"><pre>LinearRegression()</pre><b>In a Jupyter environment, please rerun this cell to show the HTML representation or trust the notebook. <br />On GitHub, the HTML representation is unable to render, please try loading this page with nbviewer.org.</b></div><div class=\"sk-container\" hidden><div class=\"sk-item\"><div class=\"sk-estimator sk-toggleable\"><input class=\"sk-toggleable__control sk-hidden--visually\" id=\"sk-estimator-id-3\" type=\"checkbox\" checked><label for=\"sk-estimator-id-3\" class=\"sk-toggleable__label sk-toggleable__label-arrow\">LinearRegression</label><div class=\"sk-toggleable__content\"><pre>LinearRegression()</pre></div></div></div></div></div>"
      ],
      "text/plain": [
       "LinearRegression()"
      ]
     },
     "execution_count": 192,
     "metadata": {},
     "output_type": "execute_result"
    }
   ],
   "source": [
    "linreg.fit(pun1_train_x , pun1_train_y)"
   ]
  },
  {
   "cell_type": "code",
   "execution_count": 193,
   "id": "8e803d8c",
   "metadata": {},
   "outputs": [
    {
     "data": {
      "text/plain": [
       "array([5112.37553022, 2628.16988221, 3816.08397039, ..., 5638.70365755,\n",
       "       7582.65768635, 5309.71669969])"
      ]
     },
     "execution_count": 193,
     "metadata": {},
     "output_type": "execute_result"
    }
   ],
   "source": [
    "# Predicted values\n",
    "\n",
    "pred_linreg = linreg.predict(pun1_train_x)\n",
    "pred_linreg"
   ]
  },
  {
   "cell_type": "code",
   "execution_count": 194,
   "id": "c732c4d8",
   "metadata": {},
   "outputs": [
    {
     "data": {
      "text/plain": [
       "0.7994400781143245"
      ]
     },
     "execution_count": 194,
     "metadata": {},
     "output_type": "execute_result"
    }
   ],
   "source": [
    "Rsquare = r2_score(pun1_train_y , pred_linreg)\n",
    "Rsquare"
   ]
  },
  {
   "cell_type": "code",
   "execution_count": 195,
   "id": "2fac527f",
   "metadata": {},
   "outputs": [
    {
     "data": {
      "text/plain": [
       "0.7991936143086278"
      ]
     },
     "execution_count": 195,
     "metadata": {},
     "output_type": "execute_result"
    }
   ],
   "source": [
    "# Calculation Adjusted Rsqaure \n",
    "\n",
    "N = pun1_train_x.shape[0] # Number of Records\n",
    "K = pun1_train_x.shape[1] # No. on X variables only\n",
    "\n",
    "Adjusted_Rsquare = 1 - ((1- Rsquare)*(N-1)/(N-K-1))\n",
    "Adjusted_Rsquare\n",
    "\n",
    "# here the Ad R2 is less than R2"
   ]
  },
  {
   "cell_type": "code",
   "execution_count": 196,
   "id": "4a4a69ba",
   "metadata": {},
   "outputs": [
    {
     "name": "stdout",
     "output_type": "stream",
     "text": [
      "MSE =  358538.46841011144\n",
      "mape =  7.178880689927439\n",
      "Accuracy =  92.82111931007256\n"
     ]
    }
   ],
   "source": [
    "print('MSE = ' , mean_squared_error(pun1_train_y , pred_linreg))\n",
    "print('mape = ', mean_absolute_percentage_error(pun1_train_y , pred_linreg) * 100)\n",
    "print('Accuracy = ', 100 - mean_absolute_percentage_error(pun1_train_y , pred_linreg) * 100)"
   ]
  },
  {
   "cell_type": "markdown",
   "id": "504990a7",
   "metadata": {},
   "source": [
    "### Model For Test Data"
   ]
  },
  {
   "cell_type": "code",
   "execution_count": 197,
   "id": "5850d646",
   "metadata": {},
   "outputs": [],
   "source": [
    "pred_test = linreg.predict(pun1_test_x)"
   ]
  },
  {
   "cell_type": "code",
   "execution_count": 198,
   "id": "e64e6642",
   "metadata": {},
   "outputs": [
    {
     "data": {
      "text/plain": [
       "0.8326300016762792"
      ]
     },
     "execution_count": 198,
     "metadata": {},
     "output_type": "execute_result"
    }
   ],
   "source": [
    "Rsquare_test = r2_score(pun1_test_y , pred_test)\n",
    "Rsquare_test"
   ]
  },
  {
   "cell_type": "code",
   "execution_count": 199,
   "id": "049ef24f",
   "metadata": {},
   "outputs": [
    {
     "data": {
      "text/plain": [
       "0.8320112586140843"
      ]
     },
     "execution_count": 199,
     "metadata": {},
     "output_type": "execute_result"
    }
   ],
   "source": [
    "# Calculation Adjusted Rsqaure \n",
    "\n",
    "N = pun1_test_x.shape[0] # Number of Records\n",
    "K = pun1_test_x.shape[1] # No. on X variables only\n",
    "\n",
    "Adjusted_Rsquare = 1 - ((1- Rsquare_test)*(N-1)/(N-K-1))\n",
    "Adjusted_Rsquare\n",
    "\n",
    "# here the Ad R2 is less than R2"
   ]
  },
  {
   "cell_type": "code",
   "execution_count": null,
   "id": "c96a85ab",
   "metadata": {
    "scrolled": true
   },
   "outputs": [],
   "source": []
  },
  {
   "cell_type": "code",
   "execution_count": 200,
   "id": "f947e41b",
   "metadata": {},
   "outputs": [
    {
     "name": "stdout",
     "output_type": "stream",
     "text": [
      "Detailed Regression Parameters :\n",
      "RSqaure =  0.8326300016762792\n",
      "Adj RSqaure =  0.8320112586140843\n",
      "MSE =  327922.8302991357\n",
      "RMSE =  572.6454664966236\n",
      "mape =  6.433226762508311\n",
      "#Accuracy =  93.56677323749169\n"
     ]
    }
   ],
   "source": [
    "print('Detailed Regression Parameters :')\n",
    "print('RSqaure = ', Rsquare_test)\n",
    "print('Adj RSqaure = ', Adjusted_Rsquare )\n",
    "print('MSE = ' , mean_squared_error(pun1_test_y , pred_test))\n",
    "print('RMSE = ', np.sqrt(mean_squared_error(pun1_test_y , pred_test)))\n",
    "print('mape = ', mean_absolute_percentage_error(pun1_test_y , pred_test) * 100)\n",
    "print('#Accuracy = ', 100 - mean_absolute_percentage_error(pun1_test_y , pred_test) * 100)"
   ]
  },
  {
   "cell_type": "markdown",
   "id": "ef66e2eb",
   "metadata": {},
   "source": [
    "## Cheking the Assumptions for Test Data"
   ]
  },
  {
   "cell_type": "code",
   "execution_count": 201,
   "id": "33d9c63c",
   "metadata": {},
   "outputs": [
    {
     "data": {
      "text/html": [
       "<div>\n",
       "<style scoped>\n",
       "    .dataframe tbody tr th:only-of-type {\n",
       "        vertical-align: middle;\n",
       "    }\n",
       "\n",
       "    .dataframe tbody tr th {\n",
       "        vertical-align: top;\n",
       "    }\n",
       "\n",
       "    .dataframe thead th {\n",
       "        text-align: right;\n",
       "    }\n",
       "</style>\n",
       "<table border=\"1\" class=\"dataframe\">\n",
       "  <thead>\n",
       "    <tr style=\"text-align: right;\">\n",
       "      <th></th>\n",
       "      <th>Actual_test</th>\n",
       "      <th>Predicted_test</th>\n",
       "      <th>Error_test</th>\n",
       "    </tr>\n",
       "  </thead>\n",
       "  <tbody>\n",
       "    <tr>\n",
       "      <th>8230</th>\n",
       "      <td>7129.439621</td>\n",
       "      <td>7255.416374</td>\n",
       "      <td>-125.976753</td>\n",
       "    </tr>\n",
       "    <tr>\n",
       "      <th>396</th>\n",
       "      <td>4377.104377</td>\n",
       "      <td>4256.781953</td>\n",
       "      <td>120.322424</td>\n",
       "    </tr>\n",
       "    <tr>\n",
       "      <th>4925</th>\n",
       "      <td>4864.864865</td>\n",
       "      <td>5377.216912</td>\n",
       "      <td>-512.352047</td>\n",
       "    </tr>\n",
       "    <tr>\n",
       "      <th>3279</th>\n",
       "      <td>2500.000000</td>\n",
       "      <td>2737.246584</td>\n",
       "      <td>-237.246584</td>\n",
       "    </tr>\n",
       "    <tr>\n",
       "      <th>6798</th>\n",
       "      <td>4146.341463</td>\n",
       "      <td>4412.139163</td>\n",
       "      <td>-265.797700</td>\n",
       "    </tr>\n",
       "    <tr>\n",
       "      <th>...</th>\n",
       "      <td>...</td>\n",
       "      <td>...</td>\n",
       "      <td>...</td>\n",
       "    </tr>\n",
       "    <tr>\n",
       "      <th>11664</th>\n",
       "      <td>3750.000000</td>\n",
       "      <td>4083.901399</td>\n",
       "      <td>-333.901399</td>\n",
       "    </tr>\n",
       "    <tr>\n",
       "      <th>9370</th>\n",
       "      <td>4781.220657</td>\n",
       "      <td>4707.687361</td>\n",
       "      <td>73.533297</td>\n",
       "    </tr>\n",
       "    <tr>\n",
       "      <th>993</th>\n",
       "      <td>3200.000000</td>\n",
       "      <td>3098.414528</td>\n",
       "      <td>101.585472</td>\n",
       "    </tr>\n",
       "    <tr>\n",
       "      <th>8778</th>\n",
       "      <td>5380.073801</td>\n",
       "      <td>5763.622556</td>\n",
       "      <td>-383.548756</td>\n",
       "    </tr>\n",
       "    <tr>\n",
       "      <th>1525</th>\n",
       "      <td>4991.220369</td>\n",
       "      <td>4922.433148</td>\n",
       "      <td>68.787221</td>\n",
       "    </tr>\n",
       "  </tbody>\n",
       "</table>\n",
       "<p>2173 rows × 3 columns</p>\n",
       "</div>"
      ],
      "text/plain": [
       "       Actual_test  Predicted_test  Error_test\n",
       "8230   7129.439621     7255.416374 -125.976753\n",
       "396    4377.104377     4256.781953  120.322424\n",
       "4925   4864.864865     5377.216912 -512.352047\n",
       "3279   2500.000000     2737.246584 -237.246584\n",
       "6798   4146.341463     4412.139163 -265.797700\n",
       "...            ...             ...         ...\n",
       "11664  3750.000000     4083.901399 -333.901399\n",
       "9370   4781.220657     4707.687361   73.533297\n",
       "993    3200.000000     3098.414528  101.585472\n",
       "8778   5380.073801     5763.622556 -383.548756\n",
       "1525   4991.220369     4922.433148   68.787221\n",
       "\n",
       "[2173 rows x 3 columns]"
      ]
     },
     "execution_count": 201,
     "metadata": {},
     "output_type": "execute_result"
    }
   ],
   "source": [
    "df_test = pd.DataFrame()\n",
    "df_test['Actual_test'] = pun1_test_y\n",
    "df_test['Predicted_test'] = pred_test\n",
    "df_test['Error_test'] = df_test ['Actual_test'] - df_test ['Predicted_test']\n",
    "df_test"
   ]
  },
  {
   "cell_type": "code",
   "execution_count": 202,
   "id": "e23414bf",
   "metadata": {},
   "outputs": [
    {
     "data": {
      "text/plain": [
       "12.583597538808542"
      ]
     },
     "execution_count": 202,
     "metadata": {},
     "output_type": "execute_result"
    }
   ],
   "source": [
    "df_test.Error_test.mean()\n",
    "\n",
    "# First step to check if mean of erros is 0 or not"
   ]
  },
  {
   "cell_type": "code",
   "execution_count": 63,
   "id": "78c0769a",
   "metadata": {},
   "outputs": [
    {
     "data": {
      "text/plain": [
       "379.3682828399258"
      ]
     },
     "execution_count": 63,
     "metadata": {},
     "output_type": "execute_result"
    }
   ],
   "source": [
    "df_test.Error_test.kurtosis() + 3"
   ]
  },
  {
   "cell_type": "code",
   "execution_count": 64,
   "id": "3b5f0859",
   "metadata": {},
   "outputs": [],
   "source": [
    "## Ploting the test data for better understanding"
   ]
  },
  {
   "cell_type": "code",
   "execution_count": 65,
   "id": "913a3cd3",
   "metadata": {},
   "outputs": [
    {
     "data": {
      "text/plain": [
       "<matplotlib.lines.Line2D at 0x2d7a71c6810>"
      ]
     },
     "execution_count": 65,
     "metadata": {},
     "output_type": "execute_result"
    },
    {
     "data": {
      "image/png": "[encoded data removed]",
      "text/plain": [
       "<Figure size 640x480 with 1 Axes>"
      ]
     },
     "metadata": {},
     "output_type": "display_data"
    }
   ],
   "source": [
    "plt.plot(df_test.Error_test, '.')\n",
    "plt.axhline(y=0, color = 'brown')"
   ]
  },
  {
   "cell_type": "code",
   "execution_count": 66,
   "id": "f40a08a4",
   "metadata": {},
   "outputs": [
    {
     "data": {
      "image/png": "[encoded data removed]",
      "text/plain": [
       "<Figure size 640x480 with 1 Axes>"
      ]
     },
     "metadata": {},
     "output_type": "display_data"
    }
   ],
   "source": [
    "plt.hist(df_test.Error_test, bins = 30 , color = 'brown' , edgecolor = 'black');"
   ]
  },
  {
   "cell_type": "code",
   "execution_count": 67,
   "id": "dffa09cd",
   "metadata": {},
   "outputs": [
    {
     "data": {
      "text/plain": [
       "<Axes: xlabel='Actual_test', ylabel='Predicted_test'>"
      ]
     },
     "execution_count": 67,
     "metadata": {},
     "output_type": "execute_result"
    },
    {
     "data": {
      "image/png": "[encoded data removed]",
      "text/plain": [
       "<Figure size 640x480 with 1 Axes>"
      ]
     },
     "metadata": {},
     "output_type": "display_data"
    }
   ],
   "source": [
    "sns.regplot(x = df_test.Actual_test, y = df_test.Predicted_test, data = df_test)"
   ]
  },
  {
   "cell_type": "code",
   "execution_count": 68,
   "id": "401ae44f",
   "metadata": {},
   "outputs": [],
   "source": [
    "# So from the above Graphs we get the Idea that there are some outliers present in the data "
   ]
  },
  {
   "cell_type": "code",
   "execution_count": 69,
   "id": "0abe8839",
   "metadata": {},
   "outputs": [
    {
     "data": {
      "text/plain": [
       "(8692, 9)"
      ]
     },
     "execution_count": 69,
     "metadata": {},
     "output_type": "execute_result"
    }
   ],
   "source": [
    "pun1.shape"
   ]
  },
  {
   "cell_type": "markdown",
   "id": "678f2ee1",
   "metadata": {},
   "source": [
    "### Now removing the Outliers"
   ]
  },
  {
   "cell_type": "code",
   "execution_count": 70,
   "id": "0f08b999",
   "metadata": {},
   "outputs": [],
   "source": [
    "def remove_outliers (df,col,k):\n",
    "    mean= df[col].mean()\n",
    "    global df1\n",
    "    sd= df[col].std()\n",
    "    final_list= [x for x in df[col] if (x > mean - k * sd)]\n",
    "    final_list= [x for x in final_list if (x < mean + k * sd)]\n",
    "    df1= df.loc[df[col].isin(final_list)]; \n",
    "    print(df1.shape)\n",
    "    print('Number of outliers removed ==>', df.shape[0]- df1.shape[0])"
   ]
  },
  {
   "cell_type": "code",
   "execution_count": 71,
   "id": "9d21b236",
   "metadata": {},
   "outputs": [
    {
     "name": "stdout",
     "output_type": "stream",
     "text": [
      "(8427, 9)\n",
      "Number of outliers removed ==> 265\n"
     ]
    }
   ],
   "source": [
    "remove_outliers(pun1,'prices', 2)"
   ]
  },
  {
   "cell_type": "code",
   "execution_count": 72,
   "id": "b73bd691",
   "metadata": {},
   "outputs": [
    {
     "data": {
      "text/plain": [
       "(8427, 9)"
      ]
     },
     "execution_count": 72,
     "metadata": {},
     "output_type": "execute_result"
    }
   ],
   "source": [
    "df1.shape"
   ]
  },
  {
   "cell_type": "code",
   "execution_count": 73,
   "id": "282d8032",
   "metadata": {},
   "outputs": [],
   "source": [
    "pun1 = df1"
   ]
  },
  {
   "cell_type": "code",
   "execution_count": 74,
   "id": "6e93fdf0",
   "metadata": {},
   "outputs": [
    {
     "data": {
      "text/plain": [
       "(8427, 9)"
      ]
     },
     "execution_count": 74,
     "metadata": {},
     "output_type": "execute_result"
    }
   ],
   "source": [
    "pun1.shape"
   ]
  },
  {
   "cell_type": "code",
   "execution_count": 75,
   "id": "e3227bbb",
   "metadata": {},
   "outputs": [],
   "source": [
    "# Train Test Split & Random Sampling\n",
    "\n",
    "pun1_train , pun1_test = train_test_split(pun1 , test_size=0.25)\n",
    "\n",
    "pun1_train_x = pun1_train.iloc[:: , 0:-1]\n",
    "pun1_train_y = pun1_train.iloc[: , -1]\n",
    "\n",
    "pun1_test_x = pun1_test.iloc[: , 0:-1]\n",
    "pun1_test_y = pun1_test.iloc[: , -1]"
   ]
  },
  {
   "cell_type": "markdown",
   "id": "8ff43dbe",
   "metadata": {},
   "source": [
    "## Model Building afer Outlier Removal"
   ]
  },
  {
   "cell_type": "code",
   "execution_count": 76,
   "id": "d611079b",
   "metadata": {},
   "outputs": [],
   "source": [
    "from sklearn.linear_model import LinearRegression\n",
    "linreg = LinearRegression(fit_intercept=True)"
   ]
  },
  {
   "cell_type": "code",
   "execution_count": 77,
   "id": "062ff8a0",
   "metadata": {},
   "outputs": [
    {
     "data": {
      "text/html": [
       "<style>#sk-container-id-2 {color: black;}#sk-container-id-2 pre{padding: 0;}#sk-container-id-2 div.sk-toggleable {background-color: white;}#sk-container-id-2 label.sk-toggleable__label {cursor: pointer;display: block;width: 100%;margin-bottom: 0;padding: 0.3em;box-sizing: border-box;text-align: center;}#sk-container-id-2 label.sk-toggleable__label-arrow:before {content: \"▸\";float: left;margin-right: 0.25em;color: #696969;}#sk-container-id-2 label.sk-toggleable__label-arrow:hover:before {color: black;}#sk-container-id-2 div.sk-estimator:hover label.sk-toggleable__label-arrow:before {color: black;}#sk-container-id-2 div.sk-toggleable__content {max-height: 0;max-width: 0;overflow: hidden;text-align: left;background-color: #f0f8ff;}#sk-container-id-2 div.sk-toggleable__content pre {margin: 0.2em;color: black;border-radius: 0.25em;background-color: #f0f8ff;}#sk-container-id-2 input.sk-toggleable__control:checked~div.sk-toggleable__content {max-height: 200px;max-width: 100%;overflow: auto;}#sk-container-id-2 input.sk-toggleable__control:checked~label.sk-toggleable__label-arrow:before {content: \"▾\";}#sk-container-id-2 div.sk-estimator input.sk-toggleable__control:checked~label.sk-toggleable__label {background-color: #d4ebff;}#sk-container-id-2 div.sk-label input.sk-toggleable__control:checked~label.sk-toggleable__label {background-color: #d4ebff;}#sk-container-id-2 input.sk-hidden--visually {border: 0;clip: rect(1px 1px 1px 1px);clip: rect(1px, 1px, 1px, 1px);height: 1px;margin: -1px;overflow: hidden;padding: 0;position: absolute;width: 1px;}#sk-container-id-2 div.sk-estimator {font-family: monospace;background-color: #f0f8ff;border: 1px dotted black;border-radius: 0.25em;box-sizing: border-box;margin-bottom: 0.5em;}#sk-container-id-2 div.sk-estimator:hover {background-color: #d4ebff;}#sk-container-id-2 div.sk-parallel-item::after {content: \"\";width: 100%;border-bottom: 1px solid gray;flex-grow: 1;}#sk-container-id-2 div.sk-label:hover label.sk-toggleable__label {background-color: #d4ebff;}#sk-container-id-2 div.sk-serial::before {content: \"\";position: absolute;border-left: 1px solid gray;box-sizing: border-box;top: 0;bottom: 0;left: 50%;z-index: 0;}#sk-container-id-2 div.sk-serial {display: flex;flex-direction: column;align-items: center;background-color: white;padding-right: 0.2em;padding-left: 0.2em;position: relative;}#sk-container-id-2 div.sk-item {position: relative;z-index: 1;}#sk-container-id-2 div.sk-parallel {display: flex;align-items: stretch;justify-content: center;background-color: white;position: relative;}#sk-container-id-2 div.sk-item::before, #sk-container-id-2 div.sk-parallel-item::before {content: \"\";position: absolute;border-left: 1px solid gray;box-sizing: border-box;top: 0;bottom: 0;left: 50%;z-index: -1;}#sk-container-id-2 div.sk-parallel-item {display: flex;flex-direction: column;z-index: 1;position: relative;background-color: white;}#sk-container-id-2 div.sk-parallel-item:first-child::after {align-self: flex-end;width: 50%;}#sk-container-id-2 div.sk-parallel-item:last-child::after {align-self: flex-start;width: 50%;}#sk-container-id-2 div.sk-parallel-item:only-child::after {width: 0;}#sk-container-id-2 div.sk-dashed-wrapped {border: 1px dashed gray;margin: 0 0.4em 0.5em 0.4em;box-sizing: border-box;padding-bottom: 0.4em;background-color: white;}#sk-container-id-2 div.sk-label label {font-family: monospace;font-weight: bold;display: inline-block;line-height: 1.2em;}#sk-container-id-2 div.sk-label-container {text-align: center;}#sk-container-id-2 div.sk-container {/* jupyter's `normalize.less` sets `[hidden] { display: none; }` but bootstrap.min.css set `[hidden] { display: none !important; }` so we also need the `!important` here to be able to override the default hidden behavior on the sphinx rendered scikit-learn.org. See: https://github.com/scikit-learn/scikit-learn/issues/21755 */display: inline-block !important;position: relative;}#sk-container-id-2 div.sk-text-repr-fallback {display: none;}</style><div id=\"sk-container-id-2\" class=\"sk-top-container\"><div class=\"sk-text-repr-fallback\"><pre>LinearRegression()</pre><b>In a Jupyter environment, please rerun this cell to show the HTML representation or trust the notebook. <br />On GitHub, the HTML representation is unable to render, please try loading this page with nbviewer.org.</b></div><div class=\"sk-container\" hidden><div class=\"sk-item\"><div class=\"sk-estimator sk-toggleable\"><input class=\"sk-toggleable__control sk-hidden--visually\" id=\"sk-estimator-id-2\" type=\"checkbox\" checked><label for=\"sk-estimator-id-2\" class=\"sk-toggleable__label sk-toggleable__label-arrow\">LinearRegression</label><div class=\"sk-toggleable__content\"><pre>LinearRegression()</pre></div></div></div></div></div>"
      ],
      "text/plain": [
       "LinearRegression()"
      ]
     },
     "execution_count": 77,
     "metadata": {},
     "output_type": "execute_result"
    }
   ],
   "source": [
    "linreg.fit(pun1_train_x  , pun1_train_y )"
   ]
  },
  {
   "cell_type": "code",
   "execution_count": 78,
   "id": "5f253eff",
   "metadata": {},
   "outputs": [],
   "source": [
    "pred_test1 = linreg.predict(pun1_test_x)"
   ]
  },
  {
   "cell_type": "code",
   "execution_count": 79,
   "id": "99edda55",
   "metadata": {},
   "outputs": [
    {
     "data": {
      "text/plain": [
       "0.8326329097250352"
      ]
     },
     "execution_count": 79,
     "metadata": {},
     "output_type": "execute_result"
    }
   ],
   "source": [
    "Rsquare1_test = r2_score(pun1_test_y , pred_test1)\n",
    "Rsquare1_test"
   ]
  },
  {
   "cell_type": "code",
   "execution_count": 80,
   "id": "bad5a1b2",
   "metadata": {},
   "outputs": [
    {
     "data": {
      "text/plain": [
       "0.8319947130033004"
      ]
     },
     "execution_count": 80,
     "metadata": {},
     "output_type": "execute_result"
    }
   ],
   "source": [
    "# Calculation Adjusted Rsqaure \n",
    "\n",
    "N = pun1_test_x.shape[0] # Number of Records\n",
    "K = pun1_test_x.shape[1] # No. on X variables only\n",
    "\n",
    "Adjusted1_Rsquare = 1 - ((1- Rsquare1_test)*(N-1)/(N-K-1))\n",
    "Adjusted1_Rsquare\n",
    "\n",
    "# here the Ad R2 is less than R2"
   ]
  },
  {
   "cell_type": "code",
   "execution_count": 81,
   "id": "0f3829c5",
   "metadata": {},
   "outputs": [
    {
     "name": "stdout",
     "output_type": "stream",
     "text": [
      "Detailed Regression Parameters :\n",
      "RSqaure =  0.8326329097250352\n",
      "Adj RSqaure =  0.8319947130033004\n",
      "MSE =  283625.92760962405\n",
      "RMSE =  532.5654209668743\n",
      "mape =  6.030670136885702\n",
      "#Accuracy =  93.9693298631143\n"
     ]
    }
   ],
   "source": [
    "print('Detailed Regression Parameters :')\n",
    "print('RSqaure = ', Rsquare1_test)\n",
    "print('Adj RSqaure = ', Adjusted1_Rsquare )\n",
    "print('MSE = ' , mean_squared_error(pun1_test_y , pred_test1))\n",
    "print('RMSE = ', np.sqrt(mean_squared_error(pun1_test_y , pred_test1)))\n",
    "print('mape = ', mean_absolute_percentage_error(pun1_test_y , pred_test1) * 100)\n",
    "print('#Accuracy = ', 100 - mean_absolute_percentage_error(pun1_test_y , pred_test1) * 100)"
   ]
  },
  {
   "cell_type": "code",
   "execution_count": null,
   "id": "960076e2",
   "metadata": {},
   "outputs": [],
   "source": []
  },
  {
   "cell_type": "code",
   "execution_count": 82,
   "id": "8adc7227",
   "metadata": {},
   "outputs": [
    {
     "data": {
      "text/html": [
       "<div>\n",
       "<style scoped>\n",
       "    .dataframe tbody tr th:only-of-type {\n",
       "        vertical-align: middle;\n",
       "    }\n",
       "\n",
       "    .dataframe tbody tr th {\n",
       "        vertical-align: top;\n",
       "    }\n",
       "\n",
       "    .dataframe thead th {\n",
       "        text-align: right;\n",
       "    }\n",
       "</style>\n",
       "<table border=\"1\" class=\"dataframe\">\n",
       "  <thead>\n",
       "    <tr style=\"text-align: right;\">\n",
       "      <th></th>\n",
       "      <th>Actual_test1</th>\n",
       "      <th>Predicted_test1</th>\n",
       "      <th>Error_test1</th>\n",
       "    </tr>\n",
       "  </thead>\n",
       "  <tbody>\n",
       "    <tr>\n",
       "      <th>8890</th>\n",
       "      <td>3500.000000</td>\n",
       "      <td>3613.308377</td>\n",
       "      <td>-113.308377</td>\n",
       "    </tr>\n",
       "    <tr>\n",
       "      <th>6333</th>\n",
       "      <td>4555.555556</td>\n",
       "      <td>4554.599619</td>\n",
       "      <td>0.955936</td>\n",
       "    </tr>\n",
       "    <tr>\n",
       "      <th>12194</th>\n",
       "      <td>6722.689076</td>\n",
       "      <td>5486.931018</td>\n",
       "      <td>1235.758058</td>\n",
       "    </tr>\n",
       "    <tr>\n",
       "      <th>12376</th>\n",
       "      <td>6666.666667</td>\n",
       "      <td>6839.972904</td>\n",
       "      <td>-173.306237</td>\n",
       "    </tr>\n",
       "    <tr>\n",
       "      <th>768</th>\n",
       "      <td>4800.000000</td>\n",
       "      <td>5135.444350</td>\n",
       "      <td>-335.444350</td>\n",
       "    </tr>\n",
       "    <tr>\n",
       "      <th>...</th>\n",
       "      <td>...</td>\n",
       "      <td>...</td>\n",
       "      <td>...</td>\n",
       "    </tr>\n",
       "    <tr>\n",
       "      <th>8508</th>\n",
       "      <td>4174.193548</td>\n",
       "      <td>4033.794503</td>\n",
       "      <td>140.399046</td>\n",
       "    </tr>\n",
       "    <tr>\n",
       "      <th>1305</th>\n",
       "      <td>5650.162338</td>\n",
       "      <td>5868.516345</td>\n",
       "      <td>-218.354007</td>\n",
       "    </tr>\n",
       "    <tr>\n",
       "      <th>7167</th>\n",
       "      <td>4774.535809</td>\n",
       "      <td>5219.437006</td>\n",
       "      <td>-444.901197</td>\n",
       "    </tr>\n",
       "    <tr>\n",
       "      <th>12617</th>\n",
       "      <td>6482.982172</td>\n",
       "      <td>6480.352645</td>\n",
       "      <td>2.629527</td>\n",
       "    </tr>\n",
       "    <tr>\n",
       "      <th>5910</th>\n",
       "      <td>6578.947368</td>\n",
       "      <td>6803.347210</td>\n",
       "      <td>-224.399841</td>\n",
       "    </tr>\n",
       "  </tbody>\n",
       "</table>\n",
       "<p>2107 rows × 3 columns</p>\n",
       "</div>"
      ],
      "text/plain": [
       "       Actual_test1  Predicted_test1  Error_test1\n",
       "8890    3500.000000      3613.308377  -113.308377\n",
       "6333    4555.555556      4554.599619     0.955936\n",
       "12194   6722.689076      5486.931018  1235.758058\n",
       "12376   6666.666667      6839.972904  -173.306237\n",
       "768     4800.000000      5135.444350  -335.444350\n",
       "...             ...              ...          ...\n",
       "8508    4174.193548      4033.794503   140.399046\n",
       "1305    5650.162338      5868.516345  -218.354007\n",
       "7167    4774.535809      5219.437006  -444.901197\n",
       "12617   6482.982172      6480.352645     2.629527\n",
       "5910    6578.947368      6803.347210  -224.399841\n",
       "\n",
       "[2107 rows x 3 columns]"
      ]
     },
     "execution_count": 82,
     "metadata": {},
     "output_type": "execute_result"
    }
   ],
   "source": [
    "df_test1 = pd.DataFrame()\n",
    "df_test1['Actual_test1'] = pun1_test_y\n",
    "df_test1['Predicted_test1'] = pred_test1\n",
    "df_test1['Error_test1'] = df_test1 ['Actual_test1'] - df_test1 ['Predicted_test1']\n",
    "df_test1"
   ]
  },
  {
   "cell_type": "code",
   "execution_count": null,
   "id": "82bd4b7b",
   "metadata": {},
   "outputs": [],
   "source": []
  },
  {
   "cell_type": "code",
   "execution_count": 83,
   "id": "052b3fbd",
   "metadata": {},
   "outputs": [
    {
     "data": {
      "text/plain": [
       "-17.520017009358682"
      ]
     },
     "execution_count": 83,
     "metadata": {},
     "output_type": "execute_result"
    }
   ],
   "source": [
    "df_test1.Error_test1.mean()\n",
    "\n",
    "# First step to check if mean of erros is 0 or not"
   ]
  },
  {
   "cell_type": "code",
   "execution_count": 84,
   "id": "7e0b3378",
   "metadata": {},
   "outputs": [
    {
     "data": {
      "text/plain": [
       "<matplotlib.lines.Line2D at 0x2d7a8d53010>"
      ]
     },
     "execution_count": 84,
     "metadata": {},
     "output_type": "execute_result"
    },
    {
     "data": {
      "image/png": "[encoded data removed]",
      "text/plain": [
       "<Figure size 640x480 with 1 Axes>"
      ]
     },
     "metadata": {},
     "output_type": "display_data"
    }
   ],
   "source": [
    "plt.plot(df_test1.Error_test1, '.')\n",
    "plt.axhline(y=0, color = 'brown')"
   ]
  },
  {
   "cell_type": "code",
   "execution_count": 85,
   "id": "ae86e1ef",
   "metadata": {},
   "outputs": [
    {
     "data": {
      "image/png": "[encoded data removed]",
      "text/plain": [
       "<Figure size 640x480 with 1 Axes>"
      ]
     },
     "metadata": {},
     "output_type": "display_data"
    }
   ],
   "source": [
    "plt.hist(df_test1.Error_test1, bins = 30 , color = 'brown' , edgecolor = 'black');"
   ]
  },
  {
   "cell_type": "code",
   "execution_count": 86,
   "id": "f65ef88d",
   "metadata": {},
   "outputs": [
    {
     "data": {
      "text/plain": [
       "<Axes: xlabel='Actual_test1', ylabel='Predicted_test1'>"
      ]
     },
     "execution_count": 86,
     "metadata": {},
     "output_type": "execute_result"
    },
    {
     "data": {
      "image/png": "[encoded data removed]",
      "text/plain": [
       "<Figure size 640x480 with 1 Axes>"
      ]
     },
     "metadata": {},
     "output_type": "display_data"
    }
   ],
   "source": [
    "sns.regplot(x = df_test1.Actual_test1, y = df_test1.Predicted_test1, data = df_test1)"
   ]
  },
  {
   "cell_type": "code",
   "execution_count": 87,
   "id": "552a7b56",
   "metadata": {},
   "outputs": [],
   "source": [
    "# After removing outliers and we have got almost 93 to 94 per of accuracy for the model"
   ]
  }
 ],
 "metadata": {
  "kernelspec": {
   "display_name": "Python 3 (ipykernel)",
   "language": "python",
   "name": "python3"
  },
  "language_info": {
   "codemirror_mode": {
    "name": "ipython",
    "version": 3
   },
   "file_extension": ".py",
   "mimetype": "text/x-python",
   "name": "python",
   "nbconvert_exporter": "python",
   "pygments_lexer": "ipython3",
   "version": "3.11.4"
  }
 },
 "nbformat": 4,
 "nbformat_minor": 5
}
